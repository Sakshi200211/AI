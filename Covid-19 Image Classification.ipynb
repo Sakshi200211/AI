{
 "cells": [
  {
   "cell_type": "code",
   "execution_count": 1,
   "id": "9751336f-63b2-4882-be9d-f981c09c903e",
   "metadata": {},
   "outputs": [],
   "source": [
    "import numpy as np\n",
    "import matplotlib.pyplot as plt\n",
    "\n",
    "from tensorflow.keras.preprocessing.image import load_img, ImageDataGenerator, img_to_array\n",
    "from tensorflow.keras.models import Sequential\n",
    "from tensorflow.keras.layers import Dense, Conv2D, MaxPool2D, Flatten\n",
    "\n",
    "import warnings\n",
    "warnings.filterwarnings(\"ignore\")"
   ]
  },
  {
   "cell_type": "code",
   "execution_count": 2,
   "id": "0a035493-6b9e-4533-a50f-c8b8ebfef8ab",
   "metadata": {},
   "outputs": [],
   "source": [
    "train_dir = r\"D:\\Data Science notes\\AI\\archive (3)\\Covid19-dataset\\train\"\n",
    "test_dir = r\"D:\\Data Science notes\\AI\\archive (3)\\Covid19-dataset\\test\""
   ]
  },
  {
   "cell_type": "code",
   "execution_count": 3,
   "id": "3c59d341-8c22-4078-8335-e7c1dd38a76b",
   "metadata": {},
   "outputs": [],
   "source": [
    "width = 500\n",
    "height = 500\n",
    "\n",
    "batch = 32"
   ]
  },
  {
   "cell_type": "code",
   "execution_count": 4,
   "id": "1aa8e590-6bdd-4c10-8ba0-bc4456f106b0",
   "metadata": {},
   "outputs": [],
   "source": [
    "train_dataset = ImageDataGenerator(\n",
    "    rescale=1./255,\n",
    "    rotation_range=20,\n",
    "    height_shift_range=0.2,\n",
    "    width_shift_range=0.2,\n",
    "    shear_range=0.2,\n",
    "    zoom_range=0.2,\n",
    "    horizontal_flip=True\n",
    ")"
   ]
  },
  {
   "cell_type": "code",
   "execution_count": 5,
   "id": "b31d7a88-9a08-4e63-956b-7e0323fe395b",
   "metadata": {},
   "outputs": [
    {
     "name": "stdout",
     "output_type": "stream",
     "text": [
      "Found 251 images belonging to 3 classes.\n"
     ]
    }
   ],
   "source": [
    "train_img = train_dataset.flow_from_directory(\n",
    "    train_dir,\n",
    "    target_size=(width, height), \n",
    "    batch_size=batch,\n",
    "    class_mode=\"categorical\"\n",
    ")"
   ]
  },
  {
   "cell_type": "code",
   "execution_count": 6,
   "id": "6020a26b-e4b6-4f3f-86a4-d2045cbdffd2",
   "metadata": {},
   "outputs": [],
   "source": [
    "test_dataset = ImageDataGenerator(rescale=1/255.0)"
   ]
  },
  {
   "cell_type": "code",
   "execution_count": 7,
   "id": "4bcf9f51-aafa-4828-87e4-89954eabe4de",
   "metadata": {},
   "outputs": [
    {
     "name": "stdout",
     "output_type": "stream",
     "text": [
      "Found 66 images belonging to 3 classes.\n"
     ]
    }
   ],
   "source": [
    "test_img = test_dataset.flow_from_directory(\n",
    "    test_dir,\n",
    "    target_size=(width, height), \n",
    "    batch_size=batch,\n",
    "    class_mode=\"categorical\"\n",
    ")"
   ]
  },
  {
   "cell_type": "code",
   "execution_count": 8,
   "id": "4e1c1d66-e1c4-47c9-a0cf-6c8a5940054a",
   "metadata": {},
   "outputs": [
    {
     "data": {
      "text/plain": [
       "{'Covid': 0, 'Normal': 1, 'Viral Pneumonia': 2}"
      ]
     },
     "execution_count": 8,
     "metadata": {},
     "output_type": "execute_result"
    }
   ],
   "source": [
    "train_img.class_indices"
   ]
  },
  {
   "cell_type": "code",
   "execution_count": 9,
   "id": "c1530b05-0481-4668-8c2f-fe4780d50c22",
   "metadata": {},
   "outputs": [],
   "source": [
    "classes = {val:key for key, val in train_img.class_indices.items()}"
   ]
  },
  {
   "cell_type": "code",
   "execution_count": 10,
   "id": "47832aff-3cc5-486a-bde6-da99ec16130f",
   "metadata": {},
   "outputs": [
    {
     "data": {
      "text/plain": [
       "{0: 'Covid', 1: 'Normal', 2: 'Viral Pneumonia'}"
      ]
     },
     "execution_count": 10,
     "metadata": {},
     "output_type": "execute_result"
    }
   ],
   "source": [
    "classes"
   ]
  },
  {
   "cell_type": "code",
   "execution_count": 11,
   "id": "06fba4f2-50c0-4bf5-9471-224cc6e0d98d",
   "metadata": {},
   "outputs": [],
   "source": [
    "model = Sequential([\n",
    "    Conv2D(64, (3, 3), input_shape=(width, height, 3), activation=\"relu\"),\n",
    "    MaxPool2D((2, 2)),\n",
    "    Conv2D(32, (3, 3), activation=\"relu\"),\n",
    "    MaxPool2D((2, 2)),\n",
    "    Flatten(),\n",
    "    Dense(52, activation=\"relu\"),\n",
    "    Dense(52, activation=\"relu\"),\n",
    "    Dense(3, activation=\"softmax\")\n",
    "])"
   ]
  },
  {
   "cell_type": "code",
   "execution_count": 12,
   "id": "da60e148-c54b-4dd1-a1e0-12fbac5fbb29",
   "metadata": {},
   "outputs": [],
   "source": [
    "model.compile(optimizer=\"adam\", loss=\"categorical_crossentropy\", metrics=[\"accuracy\"])"
   ]
  },
  {
   "cell_type": "code",
   "execution_count": null,
   "id": "1609ea1e-5aea-4c6a-bda7-b0bdc43b0481",
   "metadata": {},
   "outputs": [
    {
     "name": "stdout",
     "output_type": "stream",
     "text": [
      "Epoch 1/25\n",
      "\u001b[1m3/8\u001b[0m \u001b[32m━━━━━━━\u001b[0m\u001b[37m━━━━━━━━━━━━━\u001b[0m \u001b[1m4:25\u001b[0m 53s/step - accuracy: 0.4835 - loss: 6.2429"
     ]
    }
   ],
   "source": [
    "history = model.fit(train_img, epochs=25, batch_size=batch, validation_data=test_img)"
   ]
  },
  {
   "cell_type": "code",
   "execution_count": null,
   "id": "7b1d2d42-b84f-4df4-b5e4-4f9876d1376b",
   "metadata": {},
   "outputs": [],
   "source": [
    "plt.figure(figsize=(12, 4))\n",
    "plt.plot(history.history[\"loss\"], label=\"Training Loss\")\n",
    "plt.plot(history.history[\"val_loss\"], label=\"Validation Loss\")\n",
    "plt.title(\"Loss Visualization\")\n",
    "plt.legend()\n",
    "plt.xlabel(\"Epochs\")\n",
    "plt.ylabel(\"Loss\")\n",
    "plt.show()"
   ]
  },
  {
   "cell_type": "code",
   "execution_count": null,
   "id": "abe0e80d-e0b4-4e7c-9442-51f537f7774b",
   "metadata": {},
   "outputs": [],
   "source": [
    "plt.figure(figsize=(12, 4))\n",
    "plt.plot(history.history[\"accuracy\"], label=\"Training Accuracy\")\n",
    "plt.plot(history.history[\"val_accuracy\"], label=\"Validation Accuracy\")\n",
    "plt.title(\"Accuracy Visualization\")\n",
    "plt.legend()\n",
    "plt.xlabel(\"Epochs\")\n",
    "plt.ylabel(\"Accuracy\")\n",
    "plt.show()"
   ]
  },
  {
   "cell_type": "code",
   "execution_count": null,
   "id": "e6e3bd06-89a8-4043-93d3-ea65d46795db",
   "metadata": {},
   "outputs": [],
   "source": [
    "def image_predictor(img_path):\n",
    "    img = load_img(img_path, target_size=(width, height))\n",
    "    img_arr = img_to_array(img)\n",
    "    img_norm = img_arr / 255.0\n",
    "    img_flatten = np.expand_dims(img_norm, axis=0)\n",
    "    pred = model.predict(img_flatten)\n",
    "    predicted_class = classes[np.argmax(pred[0])]\n",
    "    return predicted_class"
   ]
  },
  {
   "cell_type": "code",
   "execution_count": null,
   "id": "b7dfa72b-b7f0-4d08-bcab-11ec98348d1b",
   "metadata": {},
   "outputs": [],
   "source": [
    "image_predictor(r\"C:\\Users\\Soft\\Desktop\\Py\\Docs\\Covid19-dataset\\test\\Normal\\0120.jpeg\")"
   ]
  },
  {
   "cell_type": "code",
   "execution_count": null,
   "id": "b5b38f41-a445-416d-9b40-ee16fd84d0de",
   "metadata": {},
   "outputs": [],
   "source": [
    "image_predictor(r\"C:\\Users\\Soft\\Desktop\\Py\\Docs\\Covid19-dataset\\test\\Covid\\auntminnie-b-2020_01_28_23_51_6665_2020_01_28_Vietnam_coronavirus.jpeg\")"
   ]
  },
  {
   "cell_type": "code",
   "execution_count": null,
   "id": "f57cd7a5-bb36-4cbc-b875-9bc4b67df005",
   "metadata": {},
   "outputs": [],
   "source": [
    "image_predictor(r\"C:\\Users\\Soft\\Desktop\\Py\\Docs\\Covid19-dataset\\test\\Viral Pneumonia\\0103.jpeg\")"
   ]
  },
  {
   "cell_type": "code",
   "execution_count": null,
   "id": "dbd3e0b3-9034-4c2f-966e-c08864dd08fe",
   "metadata": {},
   "outputs": [],
   "source": []
  }
 ],
 "metadata": {
  "kernelspec": {
   "display_name": "Python 3 (ipykernel)",
   "language": "python",
   "name": "python3"
  },
  "language_info": {
   "codemirror_mode": {
    "name": "ipython",
    "version": 3
   },
   "file_extension": ".py",
   "mimetype": "text/x-python",
   "name": "python",
   "nbconvert_exporter": "python",
   "pygments_lexer": "ipython3",
   "version": "3.11.9"
  },
  "widgets": {
   "application/vnd.jupyter.widget-state+json": {
    "state": {},
    "version_major": 2,
    "version_minor": 0
   }
  }
 },
 "nbformat": 4,
 "nbformat_minor": 5
}
