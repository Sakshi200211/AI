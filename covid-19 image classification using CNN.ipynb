{
 "cells": [
  {
   "cell_type": "code",
   "execution_count": null,
   "id": "f6d3dced-386e-4e7e-bd01-831ddacc1680",
   "metadata": {},
   "outputs": [],
   "source": [
    "import numpy as np\n",
    "import matplotlib.pyplot as plt\n",
    "\n",
    "from tensorflow.keras.preprocessing.image import load_img ,ImageDataGenerator,img_to_array\n",
    "from tensorflow.keras.models import Sequential\n",
    "from tensorflow.keras.layers import Dense,Conv2D ,MaxPool2D,Flatten\n",
    "\n",
    "import warnings\n",
    "warnings.filterwarnings(\"ignore\")"
   ]
  },
  {
   "cell_type": "code",
   "execution_count": null,
   "id": "d86135c5-0bd7-43f9-aa7a-df2de8d97f2d",
   "metadata": {},
   "outputs": [],
   "source": [
    "train_dir =r\"D:\\Data Science notes\\AI\\archive (3)\\Covid19-dataset\\train\"\n",
    "test_dir = r\"D:\\Data Science notes\\AI\\archive (3)\\Covid19-dataset\\test\""
   ]
  },
  {
   "cell_type": "code",
   "execution_count": null,
   "id": "0a8cfde7-80dc-4976-bec3-47f7a36d7544",
   "metadata": {},
   "outputs": [],
   "source": [
    "width = 500\n",
    "height = 500\n",
    "\n",
    "batch=32"
   ]
  },
  {
   "cell_type": "code",
   "execution_count": null,
   "id": "f81a9ba4-1447-46bf-b040-2b8842ce925a",
   "metadata": {},
   "outputs": [],
   "source": [
    "train_dataset = ImageDataGenerator(\n",
    "    rescale =1/255.0,\n",
    "    rotation_range =20,\n",
    "    height_shift_range =0.2,\n",
    "    width_shift_range =0.2,\n",
    "    shear_range =0.2,\n",
    "    zoom_range =0.2,\n",
    "    horizontal_flip =True\n",
    "                    \n",
    ")"
   ]
  },
  {
   "cell_type": "code",
   "execution_count": null,
   "id": "e3665e5e-d099-4d85-a3ac-8e5c4bcf5985",
   "metadata": {},
   "outputs": [],
   "source": [
    "train_img =train_dataset.flow_from_directory(\n",
    "    train_dir,\n",
    "    target_size=(width,height),\n",
    "    batch_size=batch,\n",
    "    class_mode=\"categorical\"\n",
    ")"
   ]
  },
  {
   "cell_type": "code",
   "execution_count": null,
   "id": "2a3baf21-8114-4d27-852c-af3706e652ef",
   "metadata": {},
   "outputs": [],
   "source": [
    "test_dataset =ImageDataGenerator(rescale=1/255.0)"
   ]
  },
  {
   "cell_type": "code",
   "execution_count": null,
   "id": "84209347-8b87-4d51-97ff-abba8e9b16f0",
   "metadata": {},
   "outputs": [],
   "source": [
    "test_img =test_dataset.flow_from_directory(\n",
    "    test_dir,\n",
    "    target_size=(width,height),\n",
    "    batch_size=batch,\n",
    "    class_mode=\"categorical\"\n",
    ")"
   ]
  },
  {
   "cell_type": "code",
   "execution_count": null,
   "id": "9318cdd4-6cb7-467e-ab6c-d5410119511b",
   "metadata": {},
   "outputs": [],
   "source": [
    "train_img.class_indices"
   ]
  },
  {
   "cell_type": "code",
   "execution_count": null,
   "id": "85757e51-0c57-4ecd-88f2-cea148df3b97",
   "metadata": {},
   "outputs": [],
   "source": [
    "classes = {val:key for key,val in train_img.class_indices.items()}"
   ]
  },
  {
   "cell_type": "code",
   "execution_count": null,
   "id": "b052cabf-f3f7-4c03-a57c-e7196a918926",
   "metadata": {},
   "outputs": [],
   "source": [
    "classes"
   ]
  },
  {
   "cell_type": "code",
   "execution_count": null,
   "id": "963ef004-a2de-4c47-8b66-9a1e9b443f9f",
   "metadata": {},
   "outputs": [],
   "source": [
    "model =Sequential([\n",
    "    Conv2D(64,(3,3),strides=(1,1),padding=\"valid\",input_shape=(width,height,3),activation=\"relu\"),\n",
    "    MaxPool2D((2,2)),\n",
    "    Conv2D(128,(3,3),strides=(1,1),padding=\"valid\",activation=\"relu\"),\n",
    "    MaxPool2D((2,2)),\n",
    "    Conv2D(256,(3,3),strides=(1,1),padding=\"valid\",activation=\"relu\"),\n",
    "    MaxPool2D((2,2)),\n",
    "    Flatten(),\n",
    "    Dense(128,activation=\"relu\"),\n",
    "    Dense(256,activation=\"relu\"),\n",
    "    Dense(128,activation=\"relu\"),\n",
    "    Dense(3,activation=\"softmax\"),\n",
    "    \n",
    "])"
   ]
  },
  {
   "cell_type": "code",
   "execution_count": null,
   "id": "85f59b2e-78cc-4d3e-ba34-b62dc73cfc0b",
   "metadata": {},
   "outputs": [],
   "source": [
    "model.compile(optimizer=\"adam\",loss=\"categorical_crossentropy\",metrics=[\"accuracy\"])"
   ]
  },
  {
   "cell_type": "code",
   "execution_count": null,
   "id": "884242ac-c6b8-41a4-b2ea-f582577a01ef",
   "metadata": {},
   "outputs": [],
   "source": [
    "history =model.fit(train_img,epochs=25,batch_size=batch,validation_data=test_img)"
   ]
  },
  {
   "cell_type": "code",
   "execution_count": null,
   "id": "90a55814-baaa-42ab-a186-abe2f6c7dd96",
   "metadata": {},
   "outputs": [],
   "source": [
    "plt.figure(figsize=(12,4))\n",
    "plt.plot(history.history[\"loss\"],label=\"Training Loss\")\n",
    "plt.plot(history.history[\"val_loss\"],label=\"Validation Loss\")\n",
    "plt.title(\"Loss visualization\")\n",
    "plt.legend()\n",
    "plt.xlabel(\"Epochs\")\n",
    "plt.ylabel(\"Loss\")\n",
    "plt.show()"
   ]
  },
  {
   "cell_type": "code",
   "execution_count": null,
   "id": "50ad2da4-d36c-4de0-bff7-8f894881e1cc",
   "metadata": {},
   "outputs": [],
   "source": [
    "plt.figure(figsize=(12,4))\n",
    "plt.plot(history.history[\"accuracy\"],label=\"Training Accuracy\")\n",
    "plt.plot(history.history[\"val_accuracy\"],label=\"Validation Accuracy\")\n",
    "plt.title(\"Accuracy visualization\")\n",
    "plt.legend()\n",
    "plt.xlabel(\"Epochs\")\n",
    "plt.ylabel(\"Accuracy\")\n",
    "plt.show()"
   ]
  },
  {
   "cell_type": "code",
   "execution_count": null,
   "id": "f9524db4-7b98-44ba-b52a-715521ed0282",
   "metadata": {},
   "outputs": [],
   "source": [
    "def image_predictor(img_path):\n",
    "    img = load_img(img_path ,target_size=(32,32))\n",
    "    img_arr = img_to_array(img)\n",
    "    img_norm = img_arr /255.0\n",
    "    img_flatten = np.expand_dims(img_norm ,axis=0)\n",
    "    pred = model.predict(img_flatten)\n",
    "    predicted_class = classes[np.argmax(pred[0])]\n",
    "    return predicted_class"
   ]
  }
 ],
 "metadata": {
  "kernelspec": {
   "display_name": "Python 3 (ipykernel)",
   "language": "python",
   "name": "python3"
  },
  "language_info": {
   "codemirror_mode": {
    "name": "ipython",
    "version": 3
   },
   "file_extension": ".py",
   "mimetype": "text/x-python",
   "name": "python",
   "nbconvert_exporter": "python",
   "pygments_lexer": "ipython3",
   "version": "3.11.9"
  }
 },
 "nbformat": 4,
 "nbformat_minor": 5
}
