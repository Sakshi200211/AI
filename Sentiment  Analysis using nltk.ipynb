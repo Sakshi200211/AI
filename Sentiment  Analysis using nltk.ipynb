{
 "cells": [
  {
   "cell_type": "code",
   "execution_count": 1,
   "id": "3e486918-edd9-48ab-bb5e-67197bd820a7",
   "metadata": {},
   "outputs": [],
   "source": [
    "import nltk\n",
    "from nltk.tokenize import word_tokenize,sent_tokenize\n",
    "from nltk.corpus import stopwords\n",
    "\n",
    "import numpy as np"
   ]
  },
  {
   "cell_type": "code",
   "execution_count": 2,
   "id": "94f7e039-af49-4e49-a530-7979b8e93177",
   "metadata": {},
   "outputs": [],
   "source": [
    "text =\"Indian people or Indians are the citizens and nationals of the Republic of India. In 2022, the population of India stood at 1.4 billion people, of various ethnic groups. According to United Nations forecasts, India overtook China as the world's most populous country by the end of April 2023, containing 17.50 percent of the global population.[26][27][28] In addition to the Indian population, the Indian overseas diaspora also boasts large numbers, particularly in the Arab states of the Persian Gulf, former British colonies, and the Western world.\""
   ]
  },
  {
   "cell_type": "code",
   "execution_count": 3,
   "id": "6102a3a8-3dba-4770-bb1a-b79a1b7c5cc0",
   "metadata": {},
   "outputs": [
    {
     "data": {
      "text/plain": [
       "\"Indian people or Indians are the citizens and nationals of the Republic of India. In 2022, the population of India stood at 1.4 billion people, of various ethnic groups. According to United Nations forecasts, India overtook China as the world's most populous country by the end of April 2023, containing 17.50 percent of the global population.[26][27][28] In addition to the Indian population, the Indian overseas diaspora also boasts large numbers, particularly in the Arab states of the Persian Gulf, former British colonies, and the Western world.\""
      ]
     },
     "execution_count": 3,
     "metadata": {},
     "output_type": "execute_result"
    }
   ],
   "source": [
    "text"
   ]
  },
  {
   "cell_type": "code",
   "execution_count": 6,
   "id": "c919bb4e-e704-47ff-9ce8-b7148c37ea82",
   "metadata": {},
   "outputs": [],
   "source": [
    "words = word_tokenize(text)"
   ]
  },
  {
   "cell_type": "code",
   "execution_count": 5,
   "id": "84e1b3be-e44f-4669-9282-93bc143a4781",
   "metadata": {},
   "outputs": [
    {
     "name": "stderr",
     "output_type": "stream",
     "text": [
      "[nltk_data] Downloading package punkt_tab to\n",
      "[nltk_data]     C:\\Users\\Dell\\AppData\\Roaming\\nltk_data...\n",
      "[nltk_data]   Unzipping tokenizers\\punkt_tab.zip.\n"
     ]
    },
    {
     "data": {
      "text/plain": [
       "True"
      ]
     },
     "execution_count": 5,
     "metadata": {},
     "output_type": "execute_result"
    }
   ],
   "source": [
    "nltk.download('punkt_tab')"
   ]
  },
  {
   "cell_type": "code",
   "execution_count": 7,
   "id": "94664c15-cb58-4f31-b6e6-af5be93f757f",
   "metadata": {},
   "outputs": [
    {
     "data": {
      "text/plain": [
       "['Indian',\n",
       " 'people',\n",
       " 'or',\n",
       " 'Indians',\n",
       " 'are',\n",
       " 'the',\n",
       " 'citizens',\n",
       " 'and',\n",
       " 'nationals',\n",
       " 'of',\n",
       " 'the',\n",
       " 'Republic',\n",
       " 'of',\n",
       " 'India',\n",
       " '.',\n",
       " 'In',\n",
       " '2022',\n",
       " ',',\n",
       " 'the',\n",
       " 'population',\n",
       " 'of',\n",
       " 'India',\n",
       " 'stood',\n",
       " 'at',\n",
       " '1.4',\n",
       " 'billion',\n",
       " 'people',\n",
       " ',',\n",
       " 'of',\n",
       " 'various',\n",
       " 'ethnic',\n",
       " 'groups',\n",
       " '.',\n",
       " 'According',\n",
       " 'to',\n",
       " 'United',\n",
       " 'Nations',\n",
       " 'forecasts',\n",
       " ',',\n",
       " 'India',\n",
       " 'overtook',\n",
       " 'China',\n",
       " 'as',\n",
       " 'the',\n",
       " 'world',\n",
       " \"'s\",\n",
       " 'most',\n",
       " 'populous',\n",
       " 'country',\n",
       " 'by',\n",
       " 'the',\n",
       " 'end',\n",
       " 'of',\n",
       " 'April',\n",
       " '2023',\n",
       " ',',\n",
       " 'containing',\n",
       " '17.50',\n",
       " 'percent',\n",
       " 'of',\n",
       " 'the',\n",
       " 'global',\n",
       " 'population',\n",
       " '.',\n",
       " '[',\n",
       " '26',\n",
       " ']',\n",
       " '[',\n",
       " '27',\n",
       " ']',\n",
       " '[',\n",
       " '28',\n",
       " ']',\n",
       " 'In',\n",
       " 'addition',\n",
       " 'to',\n",
       " 'the',\n",
       " 'Indian',\n",
       " 'population',\n",
       " ',',\n",
       " 'the',\n",
       " 'Indian',\n",
       " 'overseas',\n",
       " 'diaspora',\n",
       " 'also',\n",
       " 'boasts',\n",
       " 'large',\n",
       " 'numbers',\n",
       " ',',\n",
       " 'particularly',\n",
       " 'in',\n",
       " 'the',\n",
       " 'Arab',\n",
       " 'states',\n",
       " 'of',\n",
       " 'the',\n",
       " 'Persian',\n",
       " 'Gulf',\n",
       " ',',\n",
       " 'former',\n",
       " 'British',\n",
       " 'colonies',\n",
       " ',',\n",
       " 'and',\n",
       " 'the',\n",
       " 'Western',\n",
       " 'world',\n",
       " '.']"
      ]
     },
     "execution_count": 7,
     "metadata": {},
     "output_type": "execute_result"
    }
   ],
   "source": [
    "words"
   ]
  },
  {
   "cell_type": "code",
   "execution_count": 8,
   "id": "a93c31b5-5f93-4558-9607-268c967460dc",
   "metadata": {},
   "outputs": [],
   "source": [
    "sentences =sent_tokenize(text)"
   ]
  },
  {
   "cell_type": "code",
   "execution_count": 12,
   "id": "4ae62233-6ba3-40b9-a3c0-c5ae2b1cd4cf",
   "metadata": {},
   "outputs": [
    {
     "name": "stdout",
     "output_type": "stream",
     "text": [
      "Sentences 1 ->Indian people or Indians are the citizens and nationals of the Republic of India.\n",
      "Sentences 2 ->In 2022, the population of India stood at 1.4 billion people, of various ethnic groups.\n",
      "Sentences 3 ->According to United Nations forecasts, India overtook China as the world's most populous country by the end of April 2023, containing 17.50 percent of the global population.\n",
      "Sentences 4 ->[26][27][28] In addition to the Indian population, the Indian overseas diaspora also boasts large numbers, particularly in the Arab states of the Persian Gulf, former British colonies, and the Western world.\n"
     ]
    }
   ],
   "source": [
    "for i,j in enumerate(sentences):\n",
    "    print(f\"Sentences {i+1} ->{j}\")\n",
    "    \n"
   ]
  },
  {
   "cell_type": "code",
   "execution_count": 13,
   "id": "d07322c0-69c3-422b-b493-ca054f24c9a5",
   "metadata": {},
   "outputs": [],
   "source": [
    "from nltk.probability import FreqDist"
   ]
  },
  {
   "cell_type": "code",
   "execution_count": 14,
   "id": "d1beb8a1-b2b1-47eb-9ea8-8f5a54b74572",
   "metadata": {},
   "outputs": [],
   "source": [
    "freq = FreqDist(words)"
   ]
  },
  {
   "cell_type": "code",
   "execution_count": 15,
   "id": "6800c949-4c24-485f-a273-58c33a81fdb6",
   "metadata": {
    "scrolled": true
   },
   "outputs": [
    {
     "name": "stdout",
     "output_type": "stream",
     "text": [
      "Indian : 3\n",
      "people : 2\n",
      "or : 1\n",
      "Indians : 1\n",
      "are : 1\n",
      "the : 11\n",
      "citizens : 1\n",
      "and : 2\n",
      "nationals : 1\n",
      "of : 7\n",
      "Republic : 1\n",
      "India : 3\n",
      ". : 4\n",
      "In : 2\n",
      "2022 : 1\n",
      ", : 8\n",
      "population : 3\n",
      "stood : 1\n",
      "at : 1\n",
      "1.4 : 1\n",
      "billion : 1\n",
      "various : 1\n",
      "ethnic : 1\n",
      "groups : 1\n",
      "According : 1\n",
      "to : 2\n",
      "United : 1\n",
      "Nations : 1\n",
      "forecasts : 1\n",
      "overtook : 1\n",
      "China : 1\n",
      "as : 1\n",
      "world : 2\n",
      "'s : 1\n",
      "most : 1\n",
      "populous : 1\n",
      "country : 1\n",
      "by : 1\n",
      "end : 1\n",
      "April : 1\n",
      "2023 : 1\n",
      "containing : 1\n",
      "17.50 : 1\n",
      "percent : 1\n",
      "global : 1\n",
      "[ : 3\n",
      "26 : 1\n",
      "] : 3\n",
      "27 : 1\n",
      "28 : 1\n",
      "addition : 1\n",
      "overseas : 1\n",
      "diaspora : 1\n",
      "also : 1\n",
      "boasts : 1\n",
      "large : 1\n",
      "numbers : 1\n",
      "particularly : 1\n",
      "in : 1\n",
      "Arab : 1\n",
      "states : 1\n",
      "Persian : 1\n",
      "Gulf : 1\n",
      "former : 1\n",
      "British : 1\n",
      "colonies : 1\n",
      "Western : 1\n"
     ]
    }
   ],
   "source": [
    "for i ,j  in freq.items():\n",
    "    print(i+\" : \"+str(j))"
   ]
  },
  {
   "cell_type": "code",
   "execution_count": 16,
   "id": "f48dd2f7-e70d-4c7e-a24c-30c32623bbbb",
   "metadata": {
    "scrolled": true
   },
   "outputs": [
    {
     "data": {
      "text/plain": [
       "[('the', 11),\n",
       " (',', 8),\n",
       " ('of', 7),\n",
       " ('.', 4),\n",
       " ('Indian', 3),\n",
       " ('India', 3),\n",
       " ('population', 3),\n",
       " ('[', 3),\n",
       " (']', 3),\n",
       " ('people', 2),\n",
       " ('and', 2),\n",
       " ('In', 2),\n",
       " ('to', 2),\n",
       " ('world', 2),\n",
       " ('or', 1),\n",
       " ('Indians', 1),\n",
       " ('are', 1),\n",
       " ('citizens', 1),\n",
       " ('nationals', 1),\n",
       " ('Republic', 1),\n",
       " ('2022', 1),\n",
       " ('stood', 1),\n",
       " ('at', 1),\n",
       " ('1.4', 1),\n",
       " ('billion', 1),\n",
       " ('various', 1),\n",
       " ('ethnic', 1),\n",
       " ('groups', 1),\n",
       " ('According', 1),\n",
       " ('United', 1),\n",
       " ('Nations', 1),\n",
       " ('forecasts', 1),\n",
       " ('overtook', 1),\n",
       " ('China', 1),\n",
       " ('as', 1),\n",
       " (\"'s\", 1),\n",
       " ('most', 1),\n",
       " ('populous', 1),\n",
       " ('country', 1),\n",
       " ('by', 1),\n",
       " ('end', 1),\n",
       " ('April', 1),\n",
       " ('2023', 1),\n",
       " ('containing', 1),\n",
       " ('17.50', 1),\n",
       " ('percent', 1),\n",
       " ('global', 1),\n",
       " ('26', 1),\n",
       " ('27', 1),\n",
       " ('28', 1),\n",
       " ('addition', 1),\n",
       " ('overseas', 1),\n",
       " ('diaspora', 1),\n",
       " ('also', 1),\n",
       " ('boasts', 1),\n",
       " ('large', 1),\n",
       " ('numbers', 1),\n",
       " ('particularly', 1),\n",
       " ('in', 1),\n",
       " ('Arab', 1),\n",
       " ('states', 1),\n",
       " ('Persian', 1),\n",
       " ('Gulf', 1),\n",
       " ('former', 1),\n",
       " ('British', 1),\n",
       " ('colonies', 1),\n",
       " ('Western', 1)]"
      ]
     },
     "execution_count": 16,
     "metadata": {},
     "output_type": "execute_result"
    }
   ],
   "source": [
    "freq.most_common()"
   ]
  },
  {
   "cell_type": "code",
   "execution_count": 17,
   "id": "9409dc38-9f1e-42bf-943c-153eef23c13f",
   "metadata": {},
   "outputs": [],
   "source": [
    "stop_words =set(stopwords.words(\"english\"))"
   ]
  },
  {
   "cell_type": "code",
   "execution_count": 19,
   "id": "a1390d67-7d26-4a4e-bad4-b86b6ec3a98d",
   "metadata": {
    "collapsed": true,
    "jupyter": {
     "outputs_hidden": true
    }
   },
   "outputs": [
    {
     "data": {
      "text/plain": [
       "{'a',\n",
       " 'about',\n",
       " 'above',\n",
       " 'after',\n",
       " 'again',\n",
       " 'against',\n",
       " 'ain',\n",
       " 'all',\n",
       " 'am',\n",
       " 'an',\n",
       " 'and',\n",
       " 'any',\n",
       " 'are',\n",
       " 'aren',\n",
       " \"aren't\",\n",
       " 'as',\n",
       " 'at',\n",
       " 'be',\n",
       " 'because',\n",
       " 'been',\n",
       " 'before',\n",
       " 'being',\n",
       " 'below',\n",
       " 'between',\n",
       " 'both',\n",
       " 'but',\n",
       " 'by',\n",
       " 'can',\n",
       " 'couldn',\n",
       " \"couldn't\",\n",
       " 'd',\n",
       " 'did',\n",
       " 'didn',\n",
       " \"didn't\",\n",
       " 'do',\n",
       " 'does',\n",
       " 'doesn',\n",
       " \"doesn't\",\n",
       " 'doing',\n",
       " 'don',\n",
       " \"don't\",\n",
       " 'down',\n",
       " 'during',\n",
       " 'each',\n",
       " 'few',\n",
       " 'for',\n",
       " 'from',\n",
       " 'further',\n",
       " 'had',\n",
       " 'hadn',\n",
       " \"hadn't\",\n",
       " 'has',\n",
       " 'hasn',\n",
       " \"hasn't\",\n",
       " 'have',\n",
       " 'haven',\n",
       " \"haven't\",\n",
       " 'having',\n",
       " 'he',\n",
       " 'her',\n",
       " 'here',\n",
       " 'hers',\n",
       " 'herself',\n",
       " 'him',\n",
       " 'himself',\n",
       " 'his',\n",
       " 'how',\n",
       " 'i',\n",
       " 'if',\n",
       " 'in',\n",
       " 'into',\n",
       " 'is',\n",
       " 'isn',\n",
       " \"isn't\",\n",
       " 'it',\n",
       " \"it's\",\n",
       " 'its',\n",
       " 'itself',\n",
       " 'just',\n",
       " 'll',\n",
       " 'm',\n",
       " 'ma',\n",
       " 'me',\n",
       " 'mightn',\n",
       " \"mightn't\",\n",
       " 'more',\n",
       " 'most',\n",
       " 'mustn',\n",
       " \"mustn't\",\n",
       " 'my',\n",
       " 'myself',\n",
       " 'needn',\n",
       " \"needn't\",\n",
       " 'no',\n",
       " 'nor',\n",
       " 'not',\n",
       " 'now',\n",
       " 'o',\n",
       " 'of',\n",
       " 'off',\n",
       " 'on',\n",
       " 'once',\n",
       " 'only',\n",
       " 'or',\n",
       " 'other',\n",
       " 'our',\n",
       " 'ours',\n",
       " 'ourselves',\n",
       " 'out',\n",
       " 'over',\n",
       " 'own',\n",
       " 're',\n",
       " 's',\n",
       " 'same',\n",
       " 'shan',\n",
       " \"shan't\",\n",
       " 'she',\n",
       " \"she's\",\n",
       " 'should',\n",
       " \"should've\",\n",
       " 'shouldn',\n",
       " \"shouldn't\",\n",
       " 'so',\n",
       " 'some',\n",
       " 'such',\n",
       " 't',\n",
       " 'than',\n",
       " 'that',\n",
       " \"that'll\",\n",
       " 'the',\n",
       " 'their',\n",
       " 'theirs',\n",
       " 'them',\n",
       " 'themselves',\n",
       " 'then',\n",
       " 'there',\n",
       " 'these',\n",
       " 'they',\n",
       " 'this',\n",
       " 'those',\n",
       " 'through',\n",
       " 'to',\n",
       " 'too',\n",
       " 'under',\n",
       " 'until',\n",
       " 'up',\n",
       " 've',\n",
       " 'very',\n",
       " 'was',\n",
       " 'wasn',\n",
       " \"wasn't\",\n",
       " 'we',\n",
       " 'were',\n",
       " 'weren',\n",
       " \"weren't\",\n",
       " 'what',\n",
       " 'when',\n",
       " 'where',\n",
       " 'which',\n",
       " 'while',\n",
       " 'who',\n",
       " 'whom',\n",
       " 'why',\n",
       " 'will',\n",
       " 'with',\n",
       " 'won',\n",
       " \"won't\",\n",
       " 'wouldn',\n",
       " \"wouldn't\",\n",
       " 'y',\n",
       " 'you',\n",
       " \"you'd\",\n",
       " \"you'll\",\n",
       " \"you're\",\n",
       " \"you've\",\n",
       " 'your',\n",
       " 'yours',\n",
       " 'yourself',\n",
       " 'yourselves'}"
      ]
     },
     "execution_count": 19,
     "metadata": {},
     "output_type": "execute_result"
    }
   ],
   "source": [
    "stop_words"
   ]
  },
  {
   "cell_type": "code",
   "execution_count": 25,
   "id": "9309dfb8-db0b-4244-8dc4-eae066fb4b05",
   "metadata": {},
   "outputs": [],
   "source": [
    "words_without_stopwords = [i for i in words if i.lower() not in stop_words]"
   ]
  },
  {
   "cell_type": "code",
   "execution_count": 26,
   "id": "8e60b6c6-d689-4b9a-9765-184058bd1734",
   "metadata": {
    "collapsed": true,
    "jupyter": {
     "outputs_hidden": true
    }
   },
   "outputs": [
    {
     "data": {
      "text/plain": [
       "['Indian',\n",
       " 'people',\n",
       " 'Indians',\n",
       " 'citizens',\n",
       " 'nationals',\n",
       " 'Republic',\n",
       " 'India',\n",
       " '.',\n",
       " '2022',\n",
       " ',',\n",
       " 'population',\n",
       " 'India',\n",
       " 'stood',\n",
       " '1.4',\n",
       " 'billion',\n",
       " 'people',\n",
       " ',',\n",
       " 'various',\n",
       " 'ethnic',\n",
       " 'groups',\n",
       " '.',\n",
       " 'According',\n",
       " 'United',\n",
       " 'Nations',\n",
       " 'forecasts',\n",
       " ',',\n",
       " 'India',\n",
       " 'overtook',\n",
       " 'China',\n",
       " 'world',\n",
       " \"'s\",\n",
       " 'populous',\n",
       " 'country',\n",
       " 'end',\n",
       " 'April',\n",
       " '2023',\n",
       " ',',\n",
       " 'containing',\n",
       " '17.50',\n",
       " 'percent',\n",
       " 'global',\n",
       " 'population',\n",
       " '.',\n",
       " '[',\n",
       " '26',\n",
       " ']',\n",
       " '[',\n",
       " '27',\n",
       " ']',\n",
       " '[',\n",
       " '28',\n",
       " ']',\n",
       " 'addition',\n",
       " 'Indian',\n",
       " 'population',\n",
       " ',',\n",
       " 'Indian',\n",
       " 'overseas',\n",
       " 'diaspora',\n",
       " 'also',\n",
       " 'boasts',\n",
       " 'large',\n",
       " 'numbers',\n",
       " ',',\n",
       " 'particularly',\n",
       " 'Arab',\n",
       " 'states',\n",
       " 'Persian',\n",
       " 'Gulf',\n",
       " ',',\n",
       " 'former',\n",
       " 'British',\n",
       " 'colonies',\n",
       " ',',\n",
       " 'Western',\n",
       " 'world',\n",
       " '.']"
      ]
     },
     "execution_count": 26,
     "metadata": {},
     "output_type": "execute_result"
    }
   ],
   "source": [
    "words_without_stopwords"
   ]
  },
  {
   "cell_type": "code",
   "execution_count": 27,
   "id": "c119eec4-bd8e-45c3-a05e-531e1919710a",
   "metadata": {},
   "outputs": [
    {
     "data": {
      "text/plain": [
       "108"
      ]
     },
     "execution_count": 27,
     "metadata": {},
     "output_type": "execute_result"
    }
   ],
   "source": [
    "len(words)"
   ]
  },
  {
   "cell_type": "code",
   "execution_count": 28,
   "id": "d697eeeb-cf77-4306-bdf5-c088a2b60833",
   "metadata": {},
   "outputs": [
    {
     "data": {
      "text/plain": [
       "77"
      ]
     },
     "execution_count": 28,
     "metadata": {},
     "output_type": "execute_result"
    }
   ],
   "source": [
    "len(words_without_stopwords)"
   ]
  },
  {
   "cell_type": "code",
   "execution_count": 32,
   "id": "225cf939-ad09-4bf8-99c2-844d649b73f2",
   "metadata": {},
   "outputs": [],
   "source": [
    "words_without_punckt= [i for i in words_without_stopwords if i.lower() not in \".,/?|\"]"
   ]
  },
  {
   "cell_type": "code",
   "execution_count": 35,
   "id": "489dc594-03e5-4abf-ae7d-7c1af9032bf3",
   "metadata": {},
   "outputs": [
    {
     "data": {
      "text/plain": [
       "['Indian',\n",
       " 'people',\n",
       " 'Indians',\n",
       " 'citizens',\n",
       " 'nationals',\n",
       " 'Republic',\n",
       " 'India',\n",
       " '2022',\n",
       " 'population',\n",
       " 'India',\n",
       " 'stood',\n",
       " '1.4',\n",
       " 'billion',\n",
       " 'people',\n",
       " 'various',\n",
       " 'ethnic',\n",
       " 'groups',\n",
       " 'According',\n",
       " 'United',\n",
       " 'Nations',\n",
       " 'forecasts',\n",
       " 'India',\n",
       " 'overtook',\n",
       " 'China',\n",
       " 'world',\n",
       " \"'s\",\n",
       " 'populous',\n",
       " 'country',\n",
       " 'end',\n",
       " 'April',\n",
       " '2023',\n",
       " 'containing',\n",
       " '17.50',\n",
       " 'percent',\n",
       " 'global',\n",
       " 'population',\n",
       " '[',\n",
       " '26',\n",
       " ']',\n",
       " '[',\n",
       " '27',\n",
       " ']',\n",
       " '[',\n",
       " '28',\n",
       " ']',\n",
       " 'addition',\n",
       " 'Indian',\n",
       " 'population',\n",
       " 'Indian',\n",
       " 'overseas',\n",
       " 'diaspora',\n",
       " 'also',\n",
       " 'boasts',\n",
       " 'large',\n",
       " 'numbers',\n",
       " 'particularly',\n",
       " 'Arab',\n",
       " 'states',\n",
       " 'Persian',\n",
       " 'Gulf',\n",
       " 'former',\n",
       " 'British',\n",
       " 'colonies',\n",
       " 'Western',\n",
       " 'world']"
      ]
     },
     "execution_count": 35,
     "metadata": {},
     "output_type": "execute_result"
    }
   ],
   "source": [
    "words_without_punckt"
   ]
  },
  {
   "cell_type": "code",
   "execution_count": 34,
   "id": "03cdcf09-d07c-4f5b-b534-229b0b8367f7",
   "metadata": {},
   "outputs": [
    {
     "data": {
      "text/plain": [
       "65"
      ]
     },
     "execution_count": 34,
     "metadata": {},
     "output_type": "execute_result"
    }
   ],
   "source": [
    "len(words_without_punckt)"
   ]
  },
  {
   "cell_type": "code",
   "execution_count": 37,
   "id": "dd06a4e7-571c-4309-b197-17f1dfb02d33",
   "metadata": {},
   "outputs": [],
   "source": [
    "final_words=[i for i in words_without_punckt if i.lower().isalpha()]"
   ]
  },
  {
   "cell_type": "code",
   "execution_count": 38,
   "id": "fa06d13f-7154-4b83-ada5-f209e0733c12",
   "metadata": {
    "collapsed": true,
    "jupyter": {
     "outputs_hidden": true
    }
   },
   "outputs": [
    {
     "data": {
      "text/plain": [
       "['Indian',\n",
       " 'people',\n",
       " 'Indians',\n",
       " 'citizens',\n",
       " 'nationals',\n",
       " 'Republic',\n",
       " 'India',\n",
       " 'population',\n",
       " 'India',\n",
       " 'stood',\n",
       " 'billion',\n",
       " 'people',\n",
       " 'various',\n",
       " 'ethnic',\n",
       " 'groups',\n",
       " 'According',\n",
       " 'United',\n",
       " 'Nations',\n",
       " 'forecasts',\n",
       " 'India',\n",
       " 'overtook',\n",
       " 'China',\n",
       " 'world',\n",
       " 'populous',\n",
       " 'country',\n",
       " 'end',\n",
       " 'April',\n",
       " 'containing',\n",
       " 'percent',\n",
       " 'global',\n",
       " 'population',\n",
       " 'addition',\n",
       " 'Indian',\n",
       " 'population',\n",
       " 'Indian',\n",
       " 'overseas',\n",
       " 'diaspora',\n",
       " 'also',\n",
       " 'boasts',\n",
       " 'large',\n",
       " 'numbers',\n",
       " 'particularly',\n",
       " 'Arab',\n",
       " 'states',\n",
       " 'Persian',\n",
       " 'Gulf',\n",
       " 'former',\n",
       " 'British',\n",
       " 'colonies',\n",
       " 'Western',\n",
       " 'world']"
      ]
     },
     "execution_count": 38,
     "metadata": {},
     "output_type": "execute_result"
    }
   ],
   "source": [
    "final_words"
   ]
  },
  {
   "cell_type": "code",
   "execution_count": 39,
   "id": "8a3ff777-9b88-4721-9f67-59ba31f13eb1",
   "metadata": {},
   "outputs": [
    {
     "data": {
      "text/plain": [
       "51"
      ]
     },
     "execution_count": 39,
     "metadata": {},
     "output_type": "execute_result"
    }
   ],
   "source": [
    "len(final_words)"
   ]
  },
  {
   "cell_type": "code",
   "execution_count": 40,
   "id": "94662e07-cac9-46aa-8ee3-a4da69cf5173",
   "metadata": {},
   "outputs": [],
   "source": [
    "from nltk.stem import PorterStemmer,LancasterStemmer"
   ]
  },
  {
   "cell_type": "code",
   "execution_count": 41,
   "id": "1e5cfe41-079d-47f0-bb28-e473bab4219a",
   "metadata": {},
   "outputs": [],
   "source": [
    "exp =[\"affected\",\"affects\",\"affecting\",\"affection\",\"affect\"]"
   ]
  },
  {
   "cell_type": "code",
   "execution_count": 43,
   "id": "18a24ded-ac47-4ba1-8bdc-7abfd667eb6d",
   "metadata": {},
   "outputs": [],
   "source": [
    "post = PorterStemmer()"
   ]
  },
  {
   "cell_type": "code",
   "execution_count": 44,
   "id": "a3c8eb52-c5e3-4861-af61-9389fc1c519f",
   "metadata": {},
   "outputs": [],
   "source": [
    "exp_post =[post.stem(i) for i in exp]"
   ]
  },
  {
   "cell_type": "code",
   "execution_count": 45,
   "id": "2d6a0e64-fc9f-4219-85f9-77b88b4b0284",
   "metadata": {},
   "outputs": [
    {
     "data": {
      "text/plain": [
       "['affect', 'affect', 'affect', 'affect', 'affect']"
      ]
     },
     "execution_count": 45,
     "metadata": {},
     "output_type": "execute_result"
    }
   ],
   "source": [
    "exp_post"
   ]
  },
  {
   "cell_type": "code",
   "execution_count": 51,
   "id": "0a6c7be5-c8a0-4aa1-9dbd-ecbf9672c5e0",
   "metadata": {},
   "outputs": [],
   "source": [
    "last = LancasterStemmer() # used to make the words to its root form"
   ]
  },
  {
   "cell_type": "code",
   "execution_count": 52,
   "id": "7ec5c881-bc14-4d8f-a8f3-750d93b06752",
   "metadata": {},
   "outputs": [],
   "source": [
    "exp_last =[last.stem(i) for i in exp]"
   ]
  },
  {
   "cell_type": "code",
   "execution_count": 53,
   "id": "8d7efc58-844e-4005-8c92-1b680232103f",
   "metadata": {},
   "outputs": [
    {
     "data": {
      "text/plain": [
       "['affect', 'affect', 'affect', 'affect', 'affect']"
      ]
     },
     "execution_count": 53,
     "metadata": {},
     "output_type": "execute_result"
    }
   ],
   "source": [
    "exp_last"
   ]
  },
  {
   "cell_type": "code",
   "execution_count": 54,
   "id": "422fefde-bd4b-45b0-9b21-4007d0f2e2b9",
   "metadata": {},
   "outputs": [],
   "source": [
    "new =[\"enjoy\",\"enjoyable\",\"running\",\"cake\",\"postivity\",\"inspiration\",\"creativity\",\"motivation\"]"
   ]
  },
  {
   "cell_type": "code",
   "execution_count": 55,
   "id": "d01e3d81-19ab-4227-8266-0e742471e353",
   "metadata": {},
   "outputs": [],
   "source": [
    "from nltk import wordnet"
   ]
  },
  {
   "cell_type": "code",
   "execution_count": 60,
   "id": "da70c4c3-ffc0-443b-843d-6b1309ce746f",
   "metadata": {},
   "outputs": [],
   "source": [
    "lemmas =wordnet.WordNetLemmatizer() # it makes the words meaninful"
   ]
  },
  {
   "cell_type": "code",
   "execution_count": 61,
   "id": "c5139f1b-1745-4dcb-8f4a-72cf1b2068fd",
   "metadata": {},
   "outputs": [],
   "source": [
    "lemm_words =[lemmas.lemmatize(i,\"n\") for i in new]"
   ]
  },
  {
   "cell_type": "code",
   "execution_count": 62,
   "id": "a95239fd-0a18-4a62-a979-8abab659e476",
   "metadata": {
    "collapsed": true,
    "jupyter": {
     "outputs_hidden": true
    }
   },
   "outputs": [
    {
     "data": {
      "text/plain": [
       "['enjoy',\n",
       " 'enjoyable',\n",
       " 'running',\n",
       " 'cake',\n",
       " 'postivity',\n",
       " 'inspiration',\n",
       " 'creativity',\n",
       " 'motivation']"
      ]
     },
     "execution_count": 62,
     "metadata": {},
     "output_type": "execute_result"
    }
   ],
   "source": [
    "[lemmas.lemmatize(i,\"n\") for i in new]"
   ]
  },
  {
   "cell_type": "code",
   "execution_count": 63,
   "id": "f2e4f36a-1309-4115-8db6-a130b62e1958",
   "metadata": {
    "collapsed": true,
    "jupyter": {
     "outputs_hidden": true
    }
   },
   "outputs": [
    {
     "data": {
      "text/plain": [
       "['enjoy',\n",
       " 'enjoyable',\n",
       " 'run',\n",
       " 'cake',\n",
       " 'postivity',\n",
       " 'inspiration',\n",
       " 'creativity',\n",
       " 'motivation']"
      ]
     },
     "execution_count": 63,
     "metadata": {},
     "output_type": "execute_result"
    }
   ],
   "source": [
    "[lemmas.lemmatize(i,\"v\") for i in new]"
   ]
  },
  {
   "cell_type": "code",
   "execution_count": 66,
   "id": "ff9d9206-3a70-4d1e-bf88-ef0646fa1991",
   "metadata": {
    "collapsed": true,
    "jupyter": {
     "outputs_hidden": true
    }
   },
   "outputs": [
    {
     "name": "stdout",
     "output_type": "stream",
     "text": [
      "Original - affected |Noun -  affected |Verb - affect |Adjective - affected |Satellite Adjective - affected\n",
      "Original - affects |Noun -  affect |Verb - affect |Adjective - affects |Satellite Adjective - affects\n",
      "Original - affecting |Noun -  affecting |Verb - affect |Adjective - affecting |Satellite Adjective - affecting\n",
      "Original - affection |Noun -  affection |Verb - affection |Adjective - affection |Satellite Adjective - affection\n",
      "Original - affect |Noun -  affect |Verb - affect |Adjective - affect |Satellite Adjective - affect\n"
     ]
    }
   ],
   "source": [
    "for i in exp:\n",
    "    print(\"Original -\",i,\"|Noun - \",lemmas.lemmatize(i,\"n\"),\"|Verb -\",lemmas.lemmatize(i,\"v\"),\"|Adjective -\",lemmas.lemmatize(i,\"a\"),\"|Satellite Adjective -\",lemmas.lemmatize(i,\"s\"))"
   ]
  },
  {
   "cell_type": "code",
   "execution_count": 67,
   "id": "52f2f3ba-1e09-48b4-987e-01faf0f3a2cb",
   "metadata": {
    "collapsed": true,
    "jupyter": {
     "outputs_hidden": true
    }
   },
   "outputs": [
    {
     "name": "stdout",
     "output_type": "stream",
     "text": [
      "Original - enjoy |Noun -  enjoy |Verb - enjoy |Adjective - enjoy |Satellite Adjective - enjoy\n",
      "Original - enjoyable |Noun -  enjoyable |Verb - enjoyable |Adjective - enjoyable |Satellite Adjective - enjoyable\n",
      "Original - running |Noun -  running |Verb - run |Adjective - running |Satellite Adjective - running\n",
      "Original - cake |Noun -  cake |Verb - cake |Adjective - cake |Satellite Adjective - cake\n",
      "Original - postivity |Noun -  postivity |Verb - postivity |Adjective - postivity |Satellite Adjective - postivity\n",
      "Original - inspiration |Noun -  inspiration |Verb - inspiration |Adjective - inspiration |Satellite Adjective - inspiration\n",
      "Original - creativity |Noun -  creativity |Verb - creativity |Adjective - creativity |Satellite Adjective - creativity\n",
      "Original - motivation |Noun -  motivation |Verb - motivation |Adjective - motivation |Satellite Adjective - motivation\n"
     ]
    }
   ],
   "source": [
    "for i in new:\n",
    "    print(\"Original -\",i,\"|Noun - \",lemmas.lemmatize(i,\"n\"),\"|Verb -\",lemmas.lemmatize(i,\"v\"),\"|Adjective -\",lemmas.lemmatize(i,\"a\"),\"|Satellite Adjective -\",lemmas.lemmatize(i,\"s\"))"
   ]
  },
  {
   "cell_type": "code",
   "execution_count": 68,
   "id": "5da3349c-ca34-4886-b2e5-247633e29bab",
   "metadata": {},
   "outputs": [],
   "source": [
    "from nltk import pos_tag"
   ]
  },
  {
   "cell_type": "code",
   "execution_count": 69,
   "id": "031b142b-26d2-4704-8097-11e338fb8f6f",
   "metadata": {},
   "outputs": [
    {
     "data": {
      "text/plain": [
       "'Indian people or Indians are the citizens and nationals of the Republic of India.'"
      ]
     },
     "execution_count": 69,
     "metadata": {},
     "output_type": "execute_result"
    }
   ],
   "source": [
    "sentences[0]"
   ]
  },
  {
   "cell_type": "code",
   "execution_count": 74,
   "id": "b77bdd5a-82db-4664-a9d0-4e29395ddda0",
   "metadata": {},
   "outputs": [],
   "source": [
    "tags = pos_tag(word_tokenize(sentences[0]))"
   ]
  },
  {
   "cell_type": "code",
   "execution_count": 73,
   "id": "fd7f114a-19f8-4328-b7c9-e14c6bf6072d",
   "metadata": {},
   "outputs": [
    {
     "name": "stderr",
     "output_type": "stream",
     "text": [
      "[nltk_data] Downloading package averaged_perceptron_tagger_eng to\n",
      "[nltk_data]     C:\\Users\\Dell\\AppData\\Roaming\\nltk_data...\n",
      "[nltk_data]   Unzipping taggers\\averaged_perceptron_tagger_eng.zip.\n"
     ]
    },
    {
     "data": {
      "text/plain": [
       "True"
      ]
     },
     "execution_count": 73,
     "metadata": {},
     "output_type": "execute_result"
    }
   ],
   "source": [
    "nltk.download('averaged_perceptron_tagger_eng')"
   ]
  },
  {
   "cell_type": "code",
   "execution_count": 75,
   "id": "98464934-4638-47c8-b7f7-162dc8e30f24",
   "metadata": {},
   "outputs": [
    {
     "data": {
      "text/plain": [
       "[('Indian', 'JJ'),\n",
       " ('people', 'NNS'),\n",
       " ('or', 'CC'),\n",
       " ('Indians', 'NNPS'),\n",
       " ('are', 'VBP'),\n",
       " ('the', 'DT'),\n",
       " ('citizens', 'NNS'),\n",
       " ('and', 'CC'),\n",
       " ('nationals', 'NNS'),\n",
       " ('of', 'IN'),\n",
       " ('the', 'DT'),\n",
       " ('Republic', 'NNP'),\n",
       " ('of', 'IN'),\n",
       " ('India', 'NNP'),\n",
       " ('.', '.')]"
      ]
     },
     "execution_count": 75,
     "metadata": {},
     "output_type": "execute_result"
    }
   ],
   "source": [
    "tags"
   ]
  },
  {
   "cell_type": "code",
   "execution_count": null,
   "id": "81b480a9-3631-459a-b171-99af3455e451",
   "metadata": {},
   "outputs": [],
   "source": []
  }
 ],
 "metadata": {
  "kernelspec": {
   "display_name": "Python 3 (ipykernel)",
   "language": "python",
   "name": "python3"
  },
  "language_info": {
   "codemirror_mode": {
    "name": "ipython",
    "version": 3
   },
   "file_extension": ".py",
   "mimetype": "text/x-python",
   "name": "python",
   "nbconvert_exporter": "python",
   "pygments_lexer": "ipython3",
   "version": "3.11.9"
  }
 },
 "nbformat": 4,
 "nbformat_minor": 5
}
