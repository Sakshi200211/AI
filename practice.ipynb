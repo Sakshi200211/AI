{
 "cells": [
  {
   "cell_type": "code",
   "execution_count": 1,
   "id": "2c891e6b-6890-4a16-acd8-092288210aee",
   "metadata": {},
   "outputs": [],
   "source": [
    "import numpy as np\n",
    "import cv2 as cv"
   ]
  },
  {
   "cell_type": "code",
   "execution_count": 5,
   "id": "a504f8ba-cdaf-42ea-844b-aefc23381925",
   "metadata": {},
   "outputs": [],
   "source": [
    "img = cv.imread(\"picture.jpg\")"
   ]
  },
  {
   "cell_type": "code",
   "execution_count": 6,
   "id": "300fe8af-cf47-4a4d-8923-66f894451b40",
   "metadata": {},
   "outputs": [
    {
     "data": {
      "text/plain": [
       "array([[[  0,  39,  49],\n",
       "        [  0,  40,  50],\n",
       "        [  0,  39,  52],\n",
       "        ...,\n",
       "        [ 43, 177, 154],\n",
       "        [ 19, 165, 140],\n",
       "        [  0, 144, 114]],\n",
       "\n",
       "       [[  0,  40,  50],\n",
       "        [  0,  38,  48],\n",
       "        [  0,  38,  51],\n",
       "        ...,\n",
       "        [ 37, 173, 149],\n",
       "        [ 15, 165, 136],\n",
       "        [  0, 151, 120]],\n",
       "\n",
       "       [[  0,  41,  49],\n",
       "        [  0,  41,  49],\n",
       "        [  0,  40,  50],\n",
       "        ...,\n",
       "        [ 25, 169, 140],\n",
       "        [  0, 149, 116],\n",
       "        [  0, 140, 106]],\n",
       "\n",
       "       ...,\n",
       "\n",
       "       [[ 95, 124, 138],\n",
       "        [ 97, 126, 140],\n",
       "        [ 95, 125, 136],\n",
       "        ...,\n",
       "        [ 64,  90, 104],\n",
       "        [ 78, 104, 118],\n",
       "        [ 89, 115, 129]],\n",
       "\n",
       "       [[ 99, 126, 140],\n",
       "        [ 98, 127, 141],\n",
       "        [ 99, 128, 142],\n",
       "        ...,\n",
       "        [ 71,  97, 111],\n",
       "        [ 80, 106, 120],\n",
       "        [ 86, 112, 126]],\n",
       "\n",
       "       [[104, 131, 145],\n",
       "        [100, 127, 141],\n",
       "        [100, 129, 143],\n",
       "        ...,\n",
       "        [ 76, 102, 116],\n",
       "        [ 77, 103, 117],\n",
       "        [ 78, 104, 118]]], dtype=uint8)"
      ]
     },
     "execution_count": 6,
     "metadata": {},
     "output_type": "execute_result"
    }
   ],
   "source": [
    "img"
   ]
  },
  {
   "cell_type": "code",
   "execution_count": 7,
   "id": "0837f40d-3780-4bb1-a664-2f85d3cfd3ae",
   "metadata": {},
   "outputs": [],
   "source": [
    "cv.imshow(\"Original Image\" ,img)\n",
    "cv.waitKey(0)\n",
    "cv.destroyAllWindows()"
   ]
  },
  {
   "cell_type": "code",
   "execution_count": 11,
   "id": "46180d40-4a8e-4597-8416-4997b2973734",
   "metadata": {},
   "outputs": [],
   "source": [
    "re_img = cv.resize(img,(700,600))"
   ]
  },
  {
   "cell_type": "code",
   "execution_count": 12,
   "id": "25be8dfa-b977-4762-b9cf-a6a89d514a95",
   "metadata": {},
   "outputs": [
    {
     "data": {
      "text/plain": [
       "array([[[  0,  38,  50],\n",
       "        [  0,  83,  76],\n",
       "        [  0, 111,  91],\n",
       "        ...,\n",
       "        [132, 202, 215],\n",
       "        [  0,  54,  46],\n",
       "        [ 35, 168, 145]],\n",
       "\n",
       "       [[  0,  43,  52],\n",
       "        [  0,  79,  79],\n",
       "        [  3, 116,  96],\n",
       "        ...,\n",
       "        [ 32, 125, 114],\n",
       "        [  0,  73,  56],\n",
       "        [ 16, 148, 127]],\n",
       "\n",
       "       [[  0,  43,  51],\n",
       "        [  0,  16,  19],\n",
       "        [ 14, 124, 106],\n",
       "        ...,\n",
       "        [  6,  77,  59],\n",
       "        [  1,  71,  56],\n",
       "        [  0, 123,  94]],\n",
       "\n",
       "       ...,\n",
       "\n",
       "       [[ 96, 128, 139],\n",
       "        [ 97, 129, 140],\n",
       "        [ 68, 102, 115],\n",
       "        ...,\n",
       "        [ 62,  88, 102],\n",
       "        [ 65,  88, 103],\n",
       "        [ 74, 100, 114]],\n",
       "\n",
       "       [[ 86, 118, 129],\n",
       "        [ 92, 124, 135],\n",
       "        [ 85, 117, 131],\n",
       "        ...,\n",
       "        [ 65,  91, 105],\n",
       "        [ 71,  94, 109],\n",
       "        [ 71,  97, 111]],\n",
       "\n",
       "       [[ 97, 127, 141],\n",
       "        [107, 143, 153],\n",
       "        [102, 130, 144],\n",
       "        ...,\n",
       "        [ 59,  85,  99],\n",
       "        [ 66,  89, 104],\n",
       "        [ 69,  95, 109]]], dtype=uint8)"
      ]
     },
     "execution_count": 12,
     "metadata": {},
     "output_type": "execute_result"
    }
   ],
   "source": [
    "re_img"
   ]
  },
  {
   "cell_type": "code",
   "execution_count": 13,
   "id": "bd5e6001-5d44-417d-b70b-27eec69684c8",
   "metadata": {},
   "outputs": [],
   "source": [
    "cv.imwrite(r\"D:\\Data Science notes\\AI\\image Augmentation\\resize_img.jpg\",re_img)\n",
    "cv.imshow(\"Resized Image\" ,re_img)\n",
    "cv.waitKey(0)\n",
    "cv.destroyAllWindows()"
   ]
  },
  {
   "cell_type": "code",
   "execution_count": 14,
   "id": "828984a1-6e80-4128-8e90-f194b5bd13b8",
   "metadata": {},
   "outputs": [],
   "source": [
    "red = re_img.copy()"
   ]
  },
  {
   "cell_type": "code",
   "execution_count": 15,
   "id": "ce3fe730-3b44-4c4f-ba8b-6e8252bb91b0",
   "metadata": {},
   "outputs": [
    {
     "data": {
      "text/plain": [
       "(600, 700, 3)"
      ]
     },
     "execution_count": 15,
     "metadata": {},
     "output_type": "execute_result"
    }
   ],
   "source": [
    "red.shape"
   ]
  },
  {
   "cell_type": "code",
   "execution_count": 16,
   "id": "f8868821-06fc-4f1a-8a1e-20ec5587d9d1",
   "metadata": {},
   "outputs": [],
   "source": [
    "red[:,:,[0,1]]=0"
   ]
  },
  {
   "cell_type": "code",
   "execution_count": 23,
   "id": "0f2841a3-a3a5-4f42-b978-b15498527d67",
   "metadata": {},
   "outputs": [],
   "source": [
    "cv.imwrite(r\"D:\\Data Science notes\\AI\\image Augmentation\\redcolor_img.jpg\",red)\n",
    "cv.imshow(\"Red Image\",red)\n",
    "cv.waitKey(0)\n",
    "cv.destroyAllWindows()"
   ]
  },
  {
   "cell_type": "code",
   "execution_count": 24,
   "id": "3362b012-9fdd-4b94-9680-632acb9ba968",
   "metadata": {},
   "outputs": [],
   "source": [
    "green = re_img.copy()"
   ]
  },
  {
   "cell_type": "code",
   "execution_count": 25,
   "id": "957d6f8a-4a56-4bbc-9222-29cf035c32a0",
   "metadata": {},
   "outputs": [],
   "source": [
    "green[:,:,[0,2]]=0"
   ]
  },
  {
   "cell_type": "code",
   "execution_count": 28,
   "id": "6f8d7d04-e837-49c9-a9ad-01dbee8a1938",
   "metadata": {},
   "outputs": [],
   "source": [
    "cv.imwrite(r\"D:\\Data Science notes\\AI\\image Augmentation\\green_img.jpg\",green)\n",
    "cv.imshow(\"green Image\" ,green)\n",
    "cv.waitKey(0)\n",
    "cv.destroyAllWindows()"
   ]
  },
  {
   "cell_type": "code",
   "execution_count": 29,
   "id": "96bba16d-9c38-49e0-8291-1c1c468303aa",
   "metadata": {},
   "outputs": [],
   "source": [
    "arr = np.random.randint(0, 255,36).reshape(3,4,3)"
   ]
  },
  {
   "cell_type": "code",
   "execution_count": 30,
   "id": "b3e53546-d296-45ea-b782-3b2d0fd571ec",
   "metadata": {},
   "outputs": [
    {
     "data": {
      "text/plain": [
       "(3, 4, 3)"
      ]
     },
     "execution_count": 30,
     "metadata": {},
     "output_type": "execute_result"
    }
   ],
   "source": [
    "arr.shape"
   ]
  },
  {
   "cell_type": "code",
   "execution_count": 31,
   "id": "cac3ea72-74d8-456c-8a7d-0fe1b11ec312",
   "metadata": {},
   "outputs": [
    {
     "data": {
      "text/plain": [
       "array([[[  0,   0,  77],\n",
       "        [  0,   0,  61],\n",
       "        [  0,   0, 107],\n",
       "        [  0,   0, 158]],\n",
       "\n",
       "       [[  0,   0, 175],\n",
       "        [  0,   0,  45],\n",
       "        [  0,   0, 155],\n",
       "        [  0,   0, 118]],\n",
       "\n",
       "       [[  0,   0, 178],\n",
       "        [  0,   0, 226],\n",
       "        [  0,   0,  91],\n",
       "        [  0,   0,  83]]], dtype=int32)"
      ]
     },
     "execution_count": 31,
     "metadata": {},
     "output_type": "execute_result"
    }
   ],
   "source": [
    "arr[:,:,[0,1]] =0\n",
    "arr"
   ]
  },
  {
   "cell_type": "code",
   "execution_count": 32,
   "id": "77ae646a-233c-433a-98da-ce4f88b2619d",
   "metadata": {},
   "outputs": [],
   "source": [
    "gray_img = cv.cvtColor(re_img ,cv.COLOR_BGR2GRAY)"
   ]
  },
  {
   "cell_type": "code",
   "execution_count": 33,
   "id": "3124ab2b-249b-4617-8885-0876602052c2",
   "metadata": {},
   "outputs": [],
   "source": [
    "cv.imwrite(r\"D:\\Data Science notes\\AI\\image Augmentation\\gray_image.jpg\",gray_img)\n",
    "cv.imshow(\"Gray Image\" ,gray_img)\n",
    "cv.waitKey(0)\n",
    "cv.destroyAllWindows()"
   ]
  },
  {
   "cell_type": "code",
   "execution_count": 34,
   "id": "2ccb6068-2c12-458c-ad33-5ebacdd25d05",
   "metadata": {},
   "outputs": [],
   "source": [
    "blur_img1= cv.GaussianBlur(re_img ,(3,3),2) #(5,5)kernel should be always odd\n",
    "blur_img2= cv.GaussianBlur(re_img ,(5,5),6)"
   ]
  },
  {
   "cell_type": "code",
   "execution_count": 35,
   "id": "1a2ff64f-e709-4650-97c9-64369641409c",
   "metadata": {},
   "outputs": [],
   "source": [
    "two_img = np.hstack((blur_img1,blur_img2))"
   ]
  },
  {
   "cell_type": "code",
   "execution_count": 36,
   "id": "a104be17-a21c-4d3c-9718-7638a07b152b",
   "metadata": {},
   "outputs": [],
   "source": [
    "cv.imwrite(r\"D:\\Data Science notes\\AI\\image Augmentation\\blur_imgs.jpg\",two_img)\n",
    "cv.imshow(\"Blur Images\" ,two_img)\n",
    "cv.waitKey(0)\n",
    "cv.destroyAllWindows()"
   ]
  },
  {
   "cell_type": "code",
   "execution_count": 37,
   "id": "7d96c94e-2f80-47d8-8625-126b3b7a74e1",
   "metadata": {},
   "outputs": [],
   "source": [
    "edges1 = cv.Canny(gray_img,100,200)\n",
    "edges2 = cv.Canny(gray_img,150,300)"
   ]
  },
  {
   "cell_type": "code",
   "execution_count": 38,
   "id": "848ff5ac-39a8-44d1-a512-7ca3da652e61",
   "metadata": {},
   "outputs": [],
   "source": [
    "two_edges = np.hstack((edges1,edges2))"
   ]
  },
  {
   "cell_type": "code",
   "execution_count": 39,
   "id": "8558b36c-04a6-4487-ad72-e1a95b3ddc45",
   "metadata": {},
   "outputs": [],
   "source": [
    "cv.imwrite(r\"D:\\Data Science notes\\AI\\image Augmentation\\two_edges_imgs.jpg\",two_edges)\n",
    "cv.imshow(\"Edges of Images\" ,two_edges)\n",
    "cv.waitKey(0)\n",
    "cv.destroyAllWindows()"
   ]
  },
  {
   "cell_type": "code",
   "execution_count": 40,
   "id": "f5917e0a-f5ec-4d21-a1fa-97630922fa6f",
   "metadata": {},
   "outputs": [],
   "source": [
    "flip_vert =cv.flip(re_img,0)\n",
    "flip_hori =cv.flip(re_img,1)"
   ]
  },
  {
   "cell_type": "code",
   "execution_count": 41,
   "id": "102e5f27-3b67-4122-97a5-ac0b66dad473",
   "metadata": {},
   "outputs": [],
   "source": [
    "two_flip = np.hstack((flip_vert,flip_hori))"
   ]
  },
  {
   "cell_type": "code",
   "execution_count": 43,
   "id": "56fe1651-fe8f-4d43-8271-e3c72ae681cc",
   "metadata": {},
   "outputs": [],
   "source": [
    "cv.imwrite(r\"D:\\Data Science notes\\AI\\image Augmentation\\flipped_imgs.jpg\",two_flip)\n",
    "cv.imshow(\"Rotated Image\" ,two_flip)\n",
    "cv.waitKey(0)\n",
    "cv.destroyAllWindows()"
   ]
  },
  {
   "cell_type": "code",
   "execution_count": 47,
   "id": "1a3d0c6b-b932-41a7-937d-e8df7cb46eeb",
   "metadata": {},
   "outputs": [],
   "source": [
    "angle =60\n",
    "rows ,cols = re_img.shape[:2] # rows means widhts ,cols means height\n",
    "center = (cols//2,rows//2)"
   ]
  },
  {
   "cell_type": "code",
   "execution_count": 68,
   "id": "a55f362b-b981-49d0-a081-874022678e63",
   "metadata": {},
   "outputs": [],
   "source": [
    "shear_factor =0.10"
   ]
  },
  {
   "cell_type": "code",
   "execution_count": 69,
   "id": "d06fafb4-396b-4dca-8a2c-41aa0a2783ee",
   "metadata": {},
   "outputs": [],
   "source": [
    "shear_mat = np.float32([[1,shear_factor,0],[0,1,0]])"
   ]
  },
  {
   "cell_type": "code",
   "execution_count": 70,
   "id": "7017f7ba-3314-4296-94fe-378e866395e4",
   "metadata": {},
   "outputs": [],
   "source": [
    "sheared_img = cv.warpAffine(re_img,shear_mat,(cols + int(shear_factor*rows),rows))"
   ]
  },
  {
   "cell_type": "code",
   "execution_count": 71,
   "id": "ec557d32-fd9d-48b4-ba7d-e21f1cd75bf1",
   "metadata": {},
   "outputs": [],
   "source": [
    "cv.imwrite(r\"D:\\Data Science notes\\AI\\image Augmentation\\flipped_imgs.jpg\",sheared_img)\n",
    "cv.imshow(\"skewed Image\" ,sheared_img)\n",
    "cv.waitKey(0)\n",
    "cv.destroyAllWindows()"
   ]
  },
  {
   "cell_type": "code",
   "execution_count": null,
   "id": "8adea638-64cc-4d4f-acb1-ec5466a5d909",
   "metadata": {},
   "outputs": [],
   "source": []
  }
 ],
 "metadata": {
  "kernelspec": {
   "display_name": "Python 3 (ipykernel)",
   "language": "python",
   "name": "python3"
  },
  "language_info": {
   "codemirror_mode": {
    "name": "ipython",
    "version": 3
   },
   "file_extension": ".py",
   "mimetype": "text/x-python",
   "name": "python",
   "nbconvert_exporter": "python",
   "pygments_lexer": "ipython3",
   "version": "3.11.9"
  }
 },
 "nbformat": 4,
 "nbformat_minor": 5
}
