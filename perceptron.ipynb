{
 "cells": [
  {
   "cell_type": "code",
   "execution_count": 1,
   "id": "3d3b81b1-aab5-4b3c-a4b5-1d69ef83b2ea",
   "metadata": {},
   "outputs": [],
   "source": [
    "import numpy as np"
   ]
  },
  {
   "cell_type": "code",
   "execution_count": 2,
   "id": "d7d1f954-9e56-4679-a566-050d047f4c9c",
   "metadata": {},
   "outputs": [],
   "source": [
    "class Perceptron:\n",
    "    def __init__(self,inp_dim,learning_rate,epochs):\n",
    "        self.lr =learning_rate \n",
    "        self.epochs= epochs\n",
    "        self.weight= np.random.rand(inp_dim)\n",
    "        self.bias = np.random.rand()\n",
    "        self.error_ls =[]\n",
    "        \n",
    "    def step_function(self,x):\n",
    "         return 1 if x >=34 else 0\n",
    "\n",
    "    def predict(self,input):\n",
    "        weighted_sum =np.dot(input,self.weight)+self.bias\n",
    "        return self.step_function(weighted_sum)\n",
    "        \n",
    "    def fit(self,inp,out):\n",
    "        error_ls=[]\n",
    "        for i in range(self.epochs):\n",
    "            for j in range(len(inp)):\n",
    "                y_pred = self.predict(inp[j])\n",
    "                error =out[j] - y_pred\n",
    "                self.error_ls.append(error)\n",
    "                \n",
    "                self.weight +=(self.lr *error *inp[j])\n",
    "                self.bias +=(self.lr * error )"
   ]
  },
  {
   "cell_type": "code",
   "execution_count": 3,
   "id": "f9ee7a1b-ade6-4697-8bd4-b7ded964fe3b",
   "metadata": {},
   "outputs": [],
   "source": [
    "inp_data= np.array([[0,0],[0,1],[1,0],[1,1]])"
   ]
  },
  {
   "cell_type": "code",
   "execution_count": 4,
   "id": "d376eeee-3b00-4524-b00e-77ddd57c05c8",
   "metadata": {},
   "outputs": [],
   "source": [
    "out_AND = np.array([0,0,0,1])"
   ]
  },
  {
   "cell_type": "code",
   "execution_count": 5,
   "id": "03192930-584a-4b20-a875-87aea50bc5ed",
   "metadata": {},
   "outputs": [],
   "source": [
    "AND_model = Perceptron(inp_dim=2 ,epochs=1000,learning_rate=0.5)"
   ]
  },
  {
   "cell_type": "code",
   "execution_count": 6,
   "id": "25511aad-f1ad-47a3-add9-6991340be6b0",
   "metadata": {},
   "outputs": [],
   "source": [
    "AND_model.fit(inp_data,out_AND)"
   ]
  },
  {
   "cell_type": "code",
   "execution_count": 7,
   "id": "1fcc818d-3286-49af-8ff7-1a8ba2eff4e3",
   "metadata": {},
   "outputs": [
    {
     "data": {
      "text/plain": [
       "0"
      ]
     },
     "execution_count": 7,
     "metadata": {},
     "output_type": "execute_result"
    }
   ],
   "source": [
    "AND_model.predict([1,0])"
   ]
  },
  {
   "cell_type": "code",
   "execution_count": 8,
   "id": "b49c717f-30dd-4d43-9292-2bfbfd889486",
   "metadata": {},
   "outputs": [
    {
     "data": {
      "text/plain": [
       "1"
      ]
     },
     "execution_count": 8,
     "metadata": {},
     "output_type": "execute_result"
    }
   ],
   "source": [
    "AND_model.predict([1,1])"
   ]
  },
  {
   "cell_type": "code",
   "execution_count": 9,
   "id": "481fb3b4-ab35-4708-a5c8-0e37280c9be4",
   "metadata": {},
   "outputs": [
    {
     "data": {
      "text/plain": [
       "0"
      ]
     },
     "execution_count": 9,
     "metadata": {},
     "output_type": "execute_result"
    }
   ],
   "source": [
    "AND_model.predict([0,0])"
   ]
  },
  {
   "cell_type": "code",
   "execution_count": 10,
   "id": "36afdf5c-6cad-4b56-bb51-a40d9c6184a7",
   "metadata": {},
   "outputs": [],
   "source": [
    "out_OR = np.array([0,1,1,1])"
   ]
  },
  {
   "cell_type": "code",
   "execution_count": 11,
   "id": "6eacbcd8-29bc-403a-8955-6c05f975a869",
   "metadata": {},
   "outputs": [],
   "source": [
    "OR_model = Perceptron(inp_dim=2 ,epochs=1000,learning_rate=0.5)"
   ]
  },
  {
   "cell_type": "code",
   "execution_count": 12,
   "id": "62debd39-a192-4fc3-89b2-aa4b457221e9",
   "metadata": {},
   "outputs": [],
   "source": [
    "OR_model.fit(inp_data, out_OR)"
   ]
  },
  {
   "cell_type": "code",
   "execution_count": 13,
   "id": "93ef5351-7393-430a-9bf8-45caea137d61",
   "metadata": {},
   "outputs": [
    {
     "data": {
      "text/plain": [
       "1"
      ]
     },
     "execution_count": 13,
     "metadata": {},
     "output_type": "execute_result"
    }
   ],
   "source": [
    "OR_model.predict([0,1])"
   ]
  },
  {
   "cell_type": "code",
   "execution_count": 14,
   "id": "885e348a-d713-4ce7-81c4-cbca54e0b471",
   "metadata": {},
   "outputs": [
    {
     "data": {
      "text/plain": [
       "1"
      ]
     },
     "execution_count": 14,
     "metadata": {},
     "output_type": "execute_result"
    }
   ],
   "source": [
    "OR_model.predict([1,1])"
   ]
  },
  {
   "cell_type": "code",
   "execution_count": 15,
   "id": "984dc82d-42b5-4cdc-bf2b-eb0c1a81d1af",
   "metadata": {},
   "outputs": [
    {
     "data": {
      "text/plain": [
       "0"
      ]
     },
     "execution_count": 15,
     "metadata": {},
     "output_type": "execute_result"
    }
   ],
   "source": [
    "OR_model.predict([0,0])"
   ]
  },
  {
   "cell_type": "code",
   "execution_count": 16,
   "id": "5136d6fe-13df-410d-88d7-ecb76e6836f5",
   "metadata": {},
   "outputs": [
    {
     "data": {
      "text/plain": [
       "1"
      ]
     },
     "execution_count": 16,
     "metadata": {},
     "output_type": "execute_result"
    }
   ],
   "source": [
    "OR_model.predict([1,0])"
   ]
  },
  {
   "cell_type": "code",
   "execution_count": 17,
   "id": "7c6ca369-c5ac-403d-b15c-4f027430dd96",
   "metadata": {},
   "outputs": [
    {
     "data": {
      "text/plain": [
       "(array([11.82471112, 11.54018168]), np.float64(12.080179204490179))"
      ]
     },
     "execution_count": 17,
     "metadata": {},
     "output_type": "execute_result"
    }
   ],
   "source": [
    "AND_model.weight ,AND_model.bias"
   ]
  },
  {
   "cell_type": "code",
   "execution_count": 18,
   "id": "9c00d0e7-bf19-411e-b71a-7a76870382a7",
   "metadata": {},
   "outputs": [
    {
     "data": {
      "text/plain": [
       "(array([13.49859472, 13.41443007]), np.float64(21.167155651664245))"
      ]
     },
     "execution_count": 18,
     "metadata": {},
     "output_type": "execute_result"
    }
   ],
   "source": [
    "OR_model.weight ,OR_model.bias"
   ]
  },
  {
   "cell_type": "code",
   "execution_count": 19,
   "id": "b61ad4a9-340b-412b-a41b-06e7d8884814",
   "metadata": {},
   "outputs": [],
   "source": [
    "import matplotlib.pyplot as plt"
   ]
  },
  {
   "cell_type": "code",
   "execution_count": 20,
   "id": "9426c4b7-bbe0-4919-a9cb-916c1bb47afd",
   "metadata": {},
   "outputs": [
    {
     "data": {
      "text/plain": [
       "[<matplotlib.lines.Line2D at 0x23e5bcf9a90>]"
      ]
     },
     "execution_count": 20,
     "metadata": {},
     "output_type": "execute_result"
    },
    {
     "data": {
      "image/png": "[encoded data removed]",
      "text/plain": [
       "<Figure size 640x480 with 1 Axes>"
      ]
     },
     "metadata": {},
     "output_type": "display_data"
    }
   ],
   "source": [
    "plt.plot(AND_model.error_ls)"
   ]
  },
  {
   "cell_type": "code",
   "execution_count": 21,
   "id": "8f09dfc7-0896-4595-9ff3-cec3e40ad9ce",
   "metadata": {},
   "outputs": [
    {
     "data": {
      "text/plain": [
       "[<matplotlib.lines.Line2D at 0x23e5be5f2d0>]"
      ]
     },
     "execution_count": 21,
     "metadata": {},
     "output_type": "execute_result"
    },
    {
     "data": {
      "image/png": "[encoded data removed]",
      "text/plain": [
       "<Figure size 640x480 with 1 Axes>"
      ]
     },
     "metadata": {},
     "output_type": "display_data"
    }
   ],
   "source": [
    "plt.plot(OR_model.error_ls)"
   ]
  },
  {
   "cell_type": "code",
   "execution_count": 22,
   "id": "6c59dfe4-1507-4f23-81d8-ec1284e768a1",
   "metadata": {},
   "outputs": [
    {
     "data": {
      "text/plain": [
       "np.int64(23)"
      ]
     },
     "execution_count": 22,
     "metadata": {},
     "output_type": "execute_result"
    }
   ],
   "source": [
    "sum(AND_model.error_ls)"
   ]
  },
  {
   "cell_type": "code",
   "execution_count": 23,
   "id": "adbb1fe7-8255-424f-b98f-aea016863943",
   "metadata": {},
   "outputs": [],
   "source": [
    "out_XOR = np.array([0,1,1,0])"
   ]
  },
  {
   "cell_type": "code",
   "execution_count": 24,
   "id": "0689109d-d57d-4ff2-a44d-157d2c61f252",
   "metadata": {},
   "outputs": [],
   "source": [
    "XOR_model = Perceptron(inp_dim=2 ,epochs=1000,learning_rate=0.5)"
   ]
  },
  {
   "cell_type": "code",
   "execution_count": 26,
   "id": "0d39f63b-51c2-4dbf-8ae2-f509a8e9dee3",
   "metadata": {},
   "outputs": [],
   "source": [
    "XOR_model.fit(inp_data,out_XOR)"
   ]
  },
  {
   "cell_type": "code",
   "execution_count": 27,
   "id": "12ca8d21-5f79-4829-8c24-c0d7cd99f3ff",
   "metadata": {},
   "outputs": [
    {
     "name": "stdout",
     "output_type": "stream",
     "text": [
      "1\n",
      "1\n",
      "0\n",
      "1\n"
     ]
    }
   ],
   "source": [
    "for i in inp_data:\n",
    "    print(XOR_model.predict(i))"
   ]
  },
  {
   "cell_type": "code",
   "execution_count": null,
   "id": "fc636a1b-f045-4a37-be31-cadd464d883c",
   "metadata": {},
   "outputs": [],
   "source": []
  }
 ],
 "metadata": {
  "kernelspec": {
   "display_name": "Python 3 (ipykernel)",
   "language": "python",
   "name": "python3"
  },
  "language_info": {
   "codemirror_mode": {
    "name": "ipython",
    "version": 3
   },
   "file_extension": ".py",
   "mimetype": "text/x-python",
   "name": "python",
   "nbconvert_exporter": "python",
   "pygments_lexer": "ipython3",
   "version": "3.11.9"
  }
 },
 "nbformat": 4,
 "nbformat_minor": 5
}
