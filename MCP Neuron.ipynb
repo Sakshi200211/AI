{
 "cells": [
  {
   "cell_type": "code",
   "execution_count": 1,
   "id": "fec4e350-68d4-406e-b279-5fb550b8cfe5",
   "metadata": {},
   "outputs": [],
   "source": [
    "import numpy as np"
   ]
  },
  {
   "cell_type": "code",
   "execution_count": 8,
   "id": "f16d69fd-173d-4702-8533-ac7171db8d43",
   "metadata": {},
   "outputs": [
    {
     "data": {
      "text/plain": [
       "array([[0, 0],\n",
       "       [0, 1],\n",
       "       [1, 0],\n",
       "       [1, 1]])"
      ]
     },
     "execution_count": 8,
     "metadata": {},
     "output_type": "execute_result"
    }
   ],
   "source": [
    "input = np.array([[0,0],[0,1],[1,0],[1,1]])\n",
    "input"
   ]
  },
  {
   "cell_type": "code",
   "execution_count": 9,
   "id": "c1a1128b-3b25-47b6-b2fb-7d8d2a27e771",
   "metadata": {},
   "outputs": [
    {
     "data": {
      "text/plain": [
       "array([0, 0, 0, 1])"
      ]
     },
     "execution_count": 9,
     "metadata": {},
     "output_type": "execute_result"
    }
   ],
   "source": [
    "AND_out = np.array([0,0,0,1])\n",
    "AND_out "
   ]
  },
  {
   "cell_type": "code",
   "execution_count": 10,
   "id": "5a22f3ac-4824-46cc-94a3-c82f78482b9e",
   "metadata": {},
   "outputs": [
    {
     "data": {
      "text/plain": [
       "array([0, 1, 1, 1])"
      ]
     },
     "execution_count": 10,
     "metadata": {},
     "output_type": "execute_result"
    }
   ],
   "source": [
    "OR_out = np.array([0,1,1,1])\n",
    "OR_out"
   ]
  },
  {
   "cell_type": "code",
   "execution_count": 11,
   "id": "f3e9be7c-501d-4efb-8686-2b6c56d79fa1",
   "metadata": {},
   "outputs": [
    {
     "data": {
      "text/plain": [
       "array([0, 0, 0, 1])"
      ]
     },
     "execution_count": 11,
     "metadata": {},
     "output_type": "execute_result"
    }
   ],
   "source": [
    "AND_Function = np.array([1 if np.sum(i) > 1.5 else 0 for i in input])\n",
    "AND_Function"
   ]
  },
  {
   "cell_type": "code",
   "execution_count": 12,
   "id": "e288c503-6426-4b31-b8aa-1f5d4e99a53d",
   "metadata": {},
   "outputs": [
    {
     "data": {
      "text/plain": [
       "True"
      ]
     },
     "execution_count": 12,
     "metadata": {},
     "output_type": "execute_result"
    }
   ],
   "source": [
    "np.allclose(AND_out,AND_Function)"
   ]
  },
  {
   "cell_type": "code",
   "execution_count": null,
   "id": "b005cd77-bcde-4bbc-8e8c-725047fe70a8",
   "metadata": {},
   "outputs": [],
   "source": []
  }
 ],
 "metadata": {
  "kernelspec": {
   "display_name": "Python 3 (ipykernel)",
   "language": "python",
   "name": "python3"
  },
  "language_info": {
   "codemirror_mode": {
    "name": "ipython",
    "version": 3
   },
   "file_extension": ".py",
   "mimetype": "text/x-python",
   "name": "python",
   "nbconvert_exporter": "python",
   "pygments_lexer": "ipython3",
   "version": "3.11.9"
  }
 },
 "nbformat": 4,
 "nbformat_minor": 5
}
