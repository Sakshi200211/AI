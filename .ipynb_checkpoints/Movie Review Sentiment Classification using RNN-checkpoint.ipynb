{
 "cells": [
  {
   "cell_type": "code",
   "execution_count": 38,
   "id": "4cee3933-8a58-4746-a5fc-536c747dffa1",
   "metadata": {},
   "outputs": [],
   "source": [
    "import numpy as np\n",
    "import pandas as pd\n",
    "import matplotlib.pyplot as plt\n",
    "import tensorflow as tf\n",
    "from tensorflow.keras.preprocessing.text import Tokenizer\n",
    "from tensorflow.keras.preprocessing import sequence\n",
    "from tensorflow.keras.models import Sequential\n",
    "from tensorflow.keras.layers import Embedding,SimpleRNN,Dense"
   ]
  },
  {
   "cell_type": "code",
   "execution_count": 9,
   "id": "6a07526e-ab54-41ce-acbd-9d9c14977587",
   "metadata": {},
   "outputs": [],
   "source": [
    "df = pd.read_excel(\"movie_reviews.xlsx\")"
   ]
  },
  {
   "cell_type": "code",
   "execution_count": 10,
   "id": "4a28ee0e-d1f8-42e7-beb0-c9519731fa9c",
   "metadata": {},
   "outputs": [
    {
     "data": {
      "text/html": [
       "<div>\n",
       "<style scoped>\n",
       "    .dataframe tbody tr th:only-of-type {\n",
       "        vertical-align: middle;\n",
       "    }\n",
       "\n",
       "    .dataframe tbody tr th {\n",
       "        vertical-align: top;\n",
       "    }\n",
       "\n",
       "    .dataframe thead th {\n",
       "        text-align: right;\n",
       "    }\n",
       "</style>\n",
       "<table border=\"1\" class=\"dataframe\">\n",
       "  <thead>\n",
       "    <tr style=\"text-align: right;\">\n",
       "      <th></th>\n",
       "      <th>Review</th>\n",
       "      <th>Sentiment</th>\n",
       "    </tr>\n",
       "  </thead>\n",
       "  <tbody>\n",
       "    <tr>\n",
       "      <th>0</th>\n",
       "      <td>Absolutely loved this movie! The storyline was...</td>\n",
       "      <td>Positive</td>\n",
       "    </tr>\n",
       "    <tr>\n",
       "      <th>1</th>\n",
       "      <td>The actors delivered incredible performances; ...</td>\n",
       "      <td>Positive</td>\n",
       "    </tr>\n",
       "    <tr>\n",
       "      <th>2</th>\n",
       "      <td>A fantastic blend of humor and action—kept me ...</td>\n",
       "      <td>Positive</td>\n",
       "    </tr>\n",
       "    <tr>\n",
       "      <th>3</th>\n",
       "      <td>Beautiful cinematography and an engaging plot....</td>\n",
       "      <td>Positive</td>\n",
       "    </tr>\n",
       "    <tr>\n",
       "      <th>4</th>\n",
       "      <td>An outstanding film with a heartwarming messag...</td>\n",
       "      <td>Positive</td>\n",
       "    </tr>\n",
       "  </tbody>\n",
       "</table>\n",
       "</div>"
      ],
      "text/plain": [
       "                                              Review Sentiment\n",
       "0  Absolutely loved this movie! The storyline was...  Positive\n",
       "1  The actors delivered incredible performances; ...  Positive\n",
       "2  A fantastic blend of humor and action—kept me ...  Positive\n",
       "3  Beautiful cinematography and an engaging plot....  Positive\n",
       "4  An outstanding film with a heartwarming messag...  Positive"
      ]
     },
     "execution_count": 10,
     "metadata": {},
     "output_type": "execute_result"
    }
   ],
   "source": [
    "df.head()"
   ]
  },
  {
   "cell_type": "code",
   "execution_count": 11,
   "id": "7f00c9d7-5bb2-4886-8623-1059f02c2598",
   "metadata": {},
   "outputs": [],
   "source": [
    "reviews =df[\"Review\"].to_list()"
   ]
  },
  {
   "cell_type": "code",
   "execution_count": 12,
   "id": "3252c497-db3b-4b4c-8d7a-5935e3f68570",
   "metadata": {
    "collapsed": true,
    "jupyter": {
     "outputs_hidden": true
    },
    "scrolled": true
   },
   "outputs": [
    {
     "data": {
      "text/plain": [
       "['Absolutely loved this movie! The storyline was captivating and emotional.',\n",
       " 'The actors delivered incredible performances; truly Oscar-worthy.',\n",
       " 'A fantastic blend of humor and action—kept me entertained throughout.',\n",
       " 'Beautiful cinematography and an engaging plot. A must-watch!',\n",
       " 'An outstanding film with a heartwarming message. Highly recommend it!',\n",
       " 'The twists in the plot were mind-blowing. Never saw it coming!',\n",
       " 'Brilliant direction and stellar performances by the cast.',\n",
       " 'A delightful film full of charm and meaningful storytelling.',\n",
       " 'This movie is a masterpiece—art at its finest!',\n",
       " 'An unforgettable experience with great music and visuals.',\n",
       " 'So funny and touching at the same time. I laughed and cried!',\n",
       " 'The chemistry between the leads was just perfect.',\n",
       " 'Packed with action and great dialogues. Loved every moment of it.',\n",
       " 'A great adaptation of the book; exceeded my expectations!',\n",
       " 'Incredible movie with an inspiring storyline.',\n",
       " 'The emotional depth of this film was truly remarkable.',\n",
       " 'An uplifting story with fantastic character development.',\n",
       " 'Superb storytelling that kept me hooked till the end.',\n",
       " 'A beautifully crafted film with a lot of heart.',\n",
       " 'This movie truly exceeded all my expectations!',\n",
       " 'The script was flawless, and the direction was spot-on.',\n",
       " 'A wonderful family movie that everyone can enjoy!',\n",
       " 'The soundtrack was phenomenal and fit the movie perfectly.',\n",
       " 'A thoroughly enjoyable film that I’d watch again.',\n",
       " 'A cinematic triumph in every sense of the word.',\n",
       " \"This was a complete waste of time. Couldn't sit through it.\",\n",
       " 'The storyline was dull and predictable. Very disappointing.',\n",
       " 'Poorly written characters and a boring plot. Avoid this one.',\n",
       " 'The acting was wooden and lacked any real emotion.',\n",
       " 'I can’t believe I spent money on this terrible movie.',\n",
       " 'The jokes were flat, and the humor felt forced.',\n",
       " \"The pacing was all over the place—couldn't keep up.\",\n",
       " 'Terrible CGI and unimpressive visuals throughout.',\n",
       " 'The film lacked any real depth or substance. It was so shallow.',\n",
       " 'The ending was rushed and completely unsatisfying.',\n",
       " 'This movie was overly long and painfully boring.',\n",
       " 'Not even the great actors could save this disaster of a film.',\n",
       " 'It felt like they were trying too hard to be funny, but it just failed.',\n",
       " 'A disappointing sequel that shouldn’t have been made.',\n",
       " 'The direction was sloppy, and the editing was a mess.',\n",
       " 'This film was full of clichés and offered nothing new.',\n",
       " 'I regret watching this; it was a total letdown.',\n",
       " 'Horribly predictable and full of plot holes.',\n",
       " 'There was zero chemistry between the lead actors.',\n",
       " 'A pretentious and overly drawn-out film with no payoff.',\n",
       " 'The dialogue was cringy and unnatural.',\n",
       " 'A lackluster movie that felt like a chore to get through.',\n",
       " 'The plot made no sense and left me confused and frustrated.',\n",
       " 'This movie had so much potential but failed miserably.']"
      ]
     },
     "execution_count": 12,
     "metadata": {},
     "output_type": "execute_result"
    }
   ],
   "source": [
    "reviews"
   ]
  },
  {
   "cell_type": "code",
   "execution_count": 13,
   "id": "d09bbfcb-55a1-4b78-b120-9f8241b376a8",
   "metadata": {
    "collapsed": true,
    "jupyter": {
     "outputs_hidden": true
    }
   },
   "outputs": [
    {
     "data": {
      "text/plain": [
       "['Positive',\n",
       " 'Positive',\n",
       " 'Positive',\n",
       " 'Positive',\n",
       " 'Positive',\n",
       " 'Positive',\n",
       " 'Positive',\n",
       " 'Positive',\n",
       " 'Positive',\n",
       " 'Positive',\n",
       " 'Positive',\n",
       " 'Positive',\n",
       " 'Positive',\n",
       " 'Positive',\n",
       " 'Positive',\n",
       " 'Positive',\n",
       " 'Positive',\n",
       " 'Positive',\n",
       " 'Positive',\n",
       " 'Positive',\n",
       " 'Positive',\n",
       " 'Positive',\n",
       " 'Positive',\n",
       " 'Positive',\n",
       " 'Positive',\n",
       " 'Negative',\n",
       " 'Negative',\n",
       " 'Negative',\n",
       " 'Negative',\n",
       " 'Negative',\n",
       " 'Negative',\n",
       " 'Negative',\n",
       " 'Negative',\n",
       " 'Negative',\n",
       " 'Negative',\n",
       " 'Negative',\n",
       " 'Negative',\n",
       " 'Negative',\n",
       " 'Negative',\n",
       " 'Negative',\n",
       " 'Negative',\n",
       " 'Negative',\n",
       " 'Negative',\n",
       " 'Negative',\n",
       " 'Negative',\n",
       " 'Negative',\n",
       " 'Negative',\n",
       " 'Negative',\n",
       " 'Negative']"
      ]
     },
     "execution_count": 13,
     "metadata": {},
     "output_type": "execute_result"
    }
   ],
   "source": [
    "sentiment =df[\"Sentiment\"].tolist()\n",
    "sentiment"
   ]
  },
  {
   "cell_type": "code",
   "execution_count": 14,
   "id": "64eb2f84-7215-4bf8-b5bd-f54bc4a8e2fb",
   "metadata": {},
   "outputs": [],
   "source": [
    "tokens=Tokenizer()"
   ]
  },
  {
   "cell_type": "code",
   "execution_count": 15,
   "id": "674f7909-c09d-43ab-99c7-538d92f1fd2d",
   "metadata": {
    "collapsed": true,
    "jupyter": {
     "outputs_hidden": true
    }
   },
   "outputs": [
    {
     "data": {
      "text/plain": [
       "[[65, 25, 5, 7, 1, 16, 4, 66, 2, 26],\n",
       " [1, 17, 67, 27, 28, 18, 68, 69],\n",
       " [3, 29, 70, 6, 30, 2, 71, 19, 72, 31],\n",
       " [73, 74, 2, 11, 75, 12, 3, 76, 32],\n",
       " [11, 77, 8, 10, 3, 78, 79, 80, 81, 9],\n",
       " [1, 82, 33, 1, 12, 20, 83, 84, 85, 86, 9, 87],\n",
       " [88, 21, 2, 89, 28, 90, 1, 91],\n",
       " [3, 92, 8, 22, 6, 93, 2, 94, 34],\n",
       " [5, 7, 95, 3, 96, 35, 97, 98],\n",
       " [11, 99, 100, 10, 14, 101, 2, 36],\n",
       " [23, 37, 2, 102, 35, 1, 103, 38, 15, 104, 2, 105],\n",
       " [1, 39, 40, 1, 106, 4, 41, 107],\n",
       " [108, 10, 109, 2, 14, 110, 25, 42, 111, 6, 9],\n",
       " [3, 14, 112, 6, 1, 113, 43, 44, 45],\n",
       " [27, 7, 10, 11, 114, 16],\n",
       " [1, 26, 46, 6, 5, 8, 4, 18, 115],\n",
       " [11, 116, 117, 10, 29, 118, 119],\n",
       " [120, 34, 13, 121, 19, 122, 123, 1, 124],\n",
       " [3, 125, 126, 8, 10, 3, 127, 6, 128],\n",
       " [5, 7, 18, 43, 47, 44, 45],\n",
       " [1, 129, 4, 130, 2, 1, 21, 4, 131, 48],\n",
       " [3, 132, 133, 7, 13, 134, 135, 136],\n",
       " [1, 137, 4, 138, 2, 139, 1, 7, 140],\n",
       " [3, 141, 142, 8, 13, 143, 32, 144],\n",
       " [3, 145, 146, 33, 42, 49, 6, 1, 147],\n",
       " [5, 4, 3, 148, 149, 6, 38, 150, 151, 50, 9],\n",
       " [1, 16, 4, 152, 2, 51, 153, 52],\n",
       " [154, 155, 156, 2, 3, 53, 12, 157, 5, 158],\n",
       " [1, 159, 4, 160, 2, 54, 55, 56, 161],\n",
       " [15, 162, 163, 15, 164, 165, 48, 5, 57, 7],\n",
       " [1, 166, 20, 167, 2, 1, 30, 24, 168],\n",
       " [1, 169, 4, 47, 170, 1, 171, 172, 173],\n",
       " [57, 174, 2, 175, 36, 31],\n",
       " [1, 8, 54, 55, 56, 46, 176, 177, 9, 4, 23, 178],\n",
       " [1, 179, 4, 180, 2, 181, 182],\n",
       " [5, 7, 4, 58, 183, 2, 184, 53],\n",
       " [185, 186, 1, 14, 17, 187, 188, 5, 189, 6, 3, 8],\n",
       " [9, 24, 59, 190, 20, 191, 192, 193, 60, 194, 37, 61, 9, 41, 62],\n",
       " [3, 52, 195, 13, 196, 197, 198, 63],\n",
       " [1, 21, 4, 199, 2, 1, 200, 4, 3, 201],\n",
       " [5, 8, 4, 22, 6, 202, 2, 203, 204, 205],\n",
       " [15, 206, 207, 5, 9, 4, 3, 208, 209],\n",
       " [210, 51, 2, 22, 6, 12, 211],\n",
       " [212, 4, 213, 39, 40, 1, 214, 17],\n",
       " [3, 215, 2, 58, 216, 217, 8, 10, 64, 218],\n",
       " [1, 219, 4, 220, 2, 221],\n",
       " [3, 222, 7, 13, 24, 59, 3, 223, 60, 224, 50],\n",
       " [1, 12, 63, 64, 49, 2, 225, 19, 226, 2, 227],\n",
       " [5, 7, 228, 23, 229, 230, 61, 62, 231]]"
      ]
     },
     "execution_count": 15,
     "metadata": {},
     "output_type": "execute_result"
    }
   ],
   "source": [
    "tokens.fit_on_texts(reviews)\n",
    "seq =tokens.texts_to_sequences(reviews)\n",
    "seq"
   ]
  },
  {
   "cell_type": "code",
   "execution_count": 16,
   "id": "9ce01329-234c-4bc3-8bdf-2bf4e2e6ed69",
   "metadata": {},
   "outputs": [
    {
     "data": {
      "text/plain": [
       "232"
      ]
     },
     "execution_count": 16,
     "metadata": {},
     "output_type": "execute_result"
    }
   ],
   "source": [
    "vocab_size =len(tokens.word_index)+1\n",
    "vocab_size"
   ]
  },
  {
   "cell_type": "markdown",
   "id": "2cc884c8-f24d-4c19-94f7-c6925595f6fc",
   "metadata": {
    "collapsed": true,
    "jupyter": {
     "outputs_hidden": true
    }
   },
   "source": [
    "tokens.word_index"
   ]
  },
  {
   "cell_type": "code",
   "execution_count": 18,
   "id": "48f51995-50d9-461f-b2b7-04bbc0c7ae38",
   "metadata": {},
   "outputs": [
    {
     "data": {
      "text/plain": [
       "15"
      ]
     },
     "execution_count": 18,
     "metadata": {},
     "output_type": "execute_result"
    }
   ],
   "source": [
    "max_len =max([len(s) for s in seq])\n",
    "max_len"
   ]
  },
  {
   "cell_type": "code",
   "execution_count": 19,
   "id": "ad2485d8-f679-4622-8f6d-ef9cc74ac3ad",
   "metadata": {
    "collapsed": true,
    "jupyter": {
     "outputs_hidden": true
    }
   },
   "outputs": [
    {
     "data": {
      "text/plain": [
       "array([[ 65,  25,   5,   7,   1,  16,   4,  66,   2,  26,   0,   0,   0,\n",
       "          0,   0],\n",
       "       [  1,  17,  67,  27,  28,  18,  68,  69,   0,   0,   0,   0,   0,\n",
       "          0,   0],\n",
       "       [  3,  29,  70,   6,  30,   2,  71,  19,  72,  31,   0,   0,   0,\n",
       "          0,   0],\n",
       "       [ 73,  74,   2,  11,  75,  12,   3,  76,  32,   0,   0,   0,   0,\n",
       "          0,   0],\n",
       "       [ 11,  77,   8,  10,   3,  78,  79,  80,  81,   9,   0,   0,   0,\n",
       "          0,   0],\n",
       "       [  1,  82,  33,   1,  12,  20,  83,  84,  85,  86,   9,  87,   0,\n",
       "          0,   0],\n",
       "       [ 88,  21,   2,  89,  28,  90,   1,  91,   0,   0,   0,   0,   0,\n",
       "          0,   0],\n",
       "       [  3,  92,   8,  22,   6,  93,   2,  94,  34,   0,   0,   0,   0,\n",
       "          0,   0],\n",
       "       [  5,   7,  95,   3,  96,  35,  97,  98,   0,   0,   0,   0,   0,\n",
       "          0,   0],\n",
       "       [ 11,  99, 100,  10,  14, 101,   2,  36,   0,   0,   0,   0,   0,\n",
       "          0,   0],\n",
       "       [ 23,  37,   2, 102,  35,   1, 103,  38,  15, 104,   2, 105,   0,\n",
       "          0,   0],\n",
       "       [  1,  39,  40,   1, 106,   4,  41, 107,   0,   0,   0,   0,   0,\n",
       "          0,   0],\n",
       "       [108,  10, 109,   2,  14, 110,  25,  42, 111,   6,   9,   0,   0,\n",
       "          0,   0],\n",
       "       [  3,  14, 112,   6,   1, 113,  43,  44,  45,   0,   0,   0,   0,\n",
       "          0,   0],\n",
       "       [ 27,   7,  10,  11, 114,  16,   0,   0,   0,   0,   0,   0,   0,\n",
       "          0,   0],\n",
       "       [  1,  26,  46,   6,   5,   8,   4,  18, 115,   0,   0,   0,   0,\n",
       "          0,   0],\n",
       "       [ 11, 116, 117,  10,  29, 118, 119,   0,   0,   0,   0,   0,   0,\n",
       "          0,   0],\n",
       "       [120,  34,  13, 121,  19, 122, 123,   1, 124,   0,   0,   0,   0,\n",
       "          0,   0],\n",
       "       [  3, 125, 126,   8,  10,   3, 127,   6, 128,   0,   0,   0,   0,\n",
       "          0,   0],\n",
       "       [  5,   7,  18,  43,  47,  44,  45,   0,   0,   0,   0,   0,   0,\n",
       "          0,   0],\n",
       "       [  1, 129,   4, 130,   2,   1,  21,   4, 131,  48,   0,   0,   0,\n",
       "          0,   0],\n",
       "       [  3, 132, 133,   7,  13, 134, 135, 136,   0,   0,   0,   0,   0,\n",
       "          0,   0],\n",
       "       [  1, 137,   4, 138,   2, 139,   1,   7, 140,   0,   0,   0,   0,\n",
       "          0,   0],\n",
       "       [  3, 141, 142,   8,  13, 143,  32, 144,   0,   0,   0,   0,   0,\n",
       "          0,   0],\n",
       "       [  3, 145, 146,  33,  42,  49,   6,   1, 147,   0,   0,   0,   0,\n",
       "          0,   0],\n",
       "       [  5,   4,   3, 148, 149,   6,  38, 150, 151,  50,   9,   0,   0,\n",
       "          0,   0],\n",
       "       [  1,  16,   4, 152,   2,  51, 153,  52,   0,   0,   0,   0,   0,\n",
       "          0,   0],\n",
       "       [154, 155, 156,   2,   3,  53,  12, 157,   5, 158,   0,   0,   0,\n",
       "          0,   0],\n",
       "       [  1, 159,   4, 160,   2,  54,  55,  56, 161,   0,   0,   0,   0,\n",
       "          0,   0],\n",
       "       [ 15, 162, 163,  15, 164, 165,  48,   5,  57,   7,   0,   0,   0,\n",
       "          0,   0],\n",
       "       [  1, 166,  20, 167,   2,   1,  30,  24, 168,   0,   0,   0,   0,\n",
       "          0,   0],\n",
       "       [  1, 169,   4,  47, 170,   1, 171, 172, 173,   0,   0,   0,   0,\n",
       "          0,   0],\n",
       "       [ 57, 174,   2, 175,  36,  31,   0,   0,   0,   0,   0,   0,   0,\n",
       "          0,   0],\n",
       "       [  1,   8,  54,  55,  56,  46, 176, 177,   9,   4,  23, 178,   0,\n",
       "          0,   0],\n",
       "       [  1, 179,   4, 180,   2, 181, 182,   0,   0,   0,   0,   0,   0,\n",
       "          0,   0],\n",
       "       [  5,   7,   4,  58, 183,   2, 184,  53,   0,   0,   0,   0,   0,\n",
       "          0,   0],\n",
       "       [185, 186,   1,  14,  17, 187, 188,   5, 189,   6,   3,   8,   0,\n",
       "          0,   0],\n",
       "       [  9,  24,  59, 190,  20, 191, 192, 193,  60, 194,  37,  61,   9,\n",
       "         41,  62],\n",
       "       [  3,  52, 195,  13, 196, 197, 198,  63,   0,   0,   0,   0,   0,\n",
       "          0,   0],\n",
       "       [  1,  21,   4, 199,   2,   1, 200,   4,   3, 201,   0,   0,   0,\n",
       "          0,   0],\n",
       "       [  5,   8,   4,  22,   6, 202,   2, 203, 204, 205,   0,   0,   0,\n",
       "          0,   0],\n",
       "       [ 15, 206, 207,   5,   9,   4,   3, 208, 209,   0,   0,   0,   0,\n",
       "          0,   0],\n",
       "       [210,  51,   2,  22,   6,  12, 211,   0,   0,   0,   0,   0,   0,\n",
       "          0,   0],\n",
       "       [212,   4, 213,  39,  40,   1, 214,  17,   0,   0,   0,   0,   0,\n",
       "          0,   0],\n",
       "       [  3, 215,   2,  58, 216, 217,   8,  10,  64, 218,   0,   0,   0,\n",
       "          0,   0],\n",
       "       [  1, 219,   4, 220,   2, 221,   0,   0,   0,   0,   0,   0,   0,\n",
       "          0,   0],\n",
       "       [  3, 222,   7,  13,  24,  59,   3, 223,  60, 224,  50,   0,   0,\n",
       "          0,   0],\n",
       "       [  1,  12,  63,  64,  49,   2, 225,  19, 226,   2, 227,   0,   0,\n",
       "          0,   0],\n",
       "       [  5,   7, 228,  23, 229, 230,  61,  62, 231,   0,   0,   0,   0,\n",
       "          0,   0]], dtype=int32)"
      ]
     },
     "execution_count": 19,
     "metadata": {},
     "output_type": "execute_result"
    }
   ],
   "source": [
    "padded_seq =sequence.pad_sequences(seq,maxlen=max_len,padding=\"post\")\n",
    "padded_seq"
   ]
  },
  {
   "cell_type": "code",
   "execution_count": 21,
   "id": "7fd094c5-59f9-42c6-859b-79109184afa9",
   "metadata": {},
   "outputs": [
    {
     "data": {
      "text/plain": [
       "array([1, 1, 1, 1, 1, 1, 1, 1, 1, 1, 1, 1, 1, 1, 1, 1, 1, 1, 1, 1, 1, 1,\n",
       "       1, 1, 1, 0, 0, 0, 0, 0, 0, 0, 0, 0, 0, 0, 0, 0, 0, 0, 0, 0, 0, 0,\n",
       "       0, 0, 0, 0, 0])"
      ]
     },
     "execution_count": 21,
     "metadata": {},
     "output_type": "execute_result"
    }
   ],
   "source": [
    "sent_index = np.array([1 if sent ==\"Positive\" else 0 for sent in sentiment])\n",
    "sent_index"
   ]
  },
  {
   "cell_type": "code",
   "execution_count": 23,
   "id": "dcb26bdf-7b14-4cb6-80b9-446c2725b84f",
   "metadata": {
    "scrolled": true
   },
   "outputs": [],
   "source": [
    "model =Sequential([\n",
    "    Embedding(vocab_size,32,input_length = max_len),\n",
    "    SimpleRNN(32),\n",
    "    Dense(1,activation=\"sigmoid\")\n",
    "])"
   ]
  },
  {
   "cell_type": "code",
   "execution_count": 24,
   "id": "b2edf8d0-df5d-4080-bc38-11defd37fb4f",
   "metadata": {},
   "outputs": [],
   "source": [
    "model.compile(optimizer=\"adam\",loss=\"binary_crossentropy\",metrics=[\"accuracy\"])"
   ]
  },
  {
   "cell_type": "code",
   "execution_count": 25,
   "id": "1aa33cb5-9e5d-4239-9419-c89339f3e13a",
   "metadata": {
    "collapsed": true,
    "jupyter": {
     "outputs_hidden": true
    }
   },
   "outputs": [
    {
     "name": "stdout",
     "output_type": "stream",
     "text": [
      "Epoch 1/30\n",
      "\u001b[1m2/2\u001b[0m \u001b[32m━━━━━━━━━━━━━━━━━━━━\u001b[0m\u001b[37m\u001b[0m \u001b[1m6s\u001b[0m 32ms/step - accuracy: 0.5068 - loss: 0.7036\n",
      "Epoch 2/30\n",
      "\u001b[1m2/2\u001b[0m \u001b[32m━━━━━━━━━━━━━━━━━━━━\u001b[0m\u001b[37m\u001b[0m \u001b[1m0s\u001b[0m 15ms/step - accuracy: 0.5444 - loss: 0.6640\n",
      "Epoch 3/30\n",
      "\u001b[1m2/2\u001b[0m \u001b[32m━━━━━━━━━━━━━━━━━━━━\u001b[0m\u001b[37m\u001b[0m \u001b[1m0s\u001b[0m 12ms/step - accuracy: 0.7566 - loss: 0.6325\n",
      "Epoch 4/30\n",
      "\u001b[1m2/2\u001b[0m \u001b[32m━━━━━━━━━━━━━━━━━━━━\u001b[0m\u001b[37m\u001b[0m \u001b[1m0s\u001b[0m 19ms/step - accuracy: 0.9111 - loss: 0.5958 \n",
      "Epoch 5/30\n",
      "\u001b[1m2/2\u001b[0m \u001b[32m━━━━━━━━━━━━━━━━━━━━\u001b[0m\u001b[37m\u001b[0m \u001b[1m0s\u001b[0m 18ms/step - accuracy: 0.9384 - loss: 0.5526 \n",
      "Epoch 6/30\n",
      "\u001b[1m2/2\u001b[0m \u001b[32m━━━━━━━━━━━━━━━━━━━━\u001b[0m\u001b[37m\u001b[0m \u001b[1m0s\u001b[0m 0s/step - accuracy: 0.9520 - loss: 0.5093   \n",
      "Epoch 7/30\n",
      "\u001b[1m2/2\u001b[0m \u001b[32m━━━━━━━━━━━━━━━━━━━━\u001b[0m\u001b[37m\u001b[0m \u001b[1m0s\u001b[0m 0s/step - accuracy: 0.9624 - loss: 0.4584  \n",
      "Epoch 8/30\n",
      "\u001b[1m2/2\u001b[0m \u001b[32m━━━━━━━━━━━━━━━━━━━━\u001b[0m\u001b[37m\u001b[0m \u001b[1m0s\u001b[0m 17ms/step - accuracy: 0.9520 - loss: 0.4010 \n",
      "Epoch 9/30\n",
      "\u001b[1m2/2\u001b[0m \u001b[32m━━━━━━━━━━━━━━━━━━━━\u001b[0m\u001b[37m\u001b[0m \u001b[1m0s\u001b[0m 16ms/step - accuracy: 0.9624 - loss: 0.3360\n",
      "Epoch 10/30\n",
      "\u001b[1m2/2\u001b[0m \u001b[32m━━━━━━━━━━━━━━━━━━━━\u001b[0m\u001b[37m\u001b[0m \u001b[1m0s\u001b[0m 17ms/step - accuracy: 0.9760 - loss: 0.2815\n",
      "Epoch 11/30\n",
      "\u001b[1m2/2\u001b[0m \u001b[32m━━━━━━━━━━━━━━━━━━━━\u001b[0m\u001b[37m\u001b[0m \u001b[1m0s\u001b[0m 16ms/step - accuracy: 1.0000 - loss: 0.2232\n",
      "Epoch 12/30\n",
      "\u001b[1m2/2\u001b[0m \u001b[32m━━━━━━━━━━━━━━━━━━━━\u001b[0m\u001b[37m\u001b[0m \u001b[1m0s\u001b[0m 11ms/step - accuracy: 1.0000 - loss: 0.1785 \n",
      "Epoch 13/30\n",
      "\u001b[1m2/2\u001b[0m \u001b[32m━━━━━━━━━━━━━━━━━━━━\u001b[0m\u001b[37m\u001b[0m \u001b[1m0s\u001b[0m 16ms/step - accuracy: 1.0000 - loss: 0.1352\n",
      "Epoch 14/30\n",
      "\u001b[1m2/2\u001b[0m \u001b[32m━━━━━━━━━━━━━━━━━━━━\u001b[0m\u001b[37m\u001b[0m \u001b[1m0s\u001b[0m 9ms/step - accuracy: 1.0000 - loss: 0.1015  \n",
      "Epoch 15/30\n",
      "\u001b[1m2/2\u001b[0m \u001b[32m━━━━━━━━━━━━━━━━━━━━\u001b[0m\u001b[37m\u001b[0m \u001b[1m0s\u001b[0m 16ms/step - accuracy: 1.0000 - loss: 0.0821\n",
      "Epoch 16/30\n",
      "\u001b[1m2/2\u001b[0m \u001b[32m━━━━━━━━━━━━━━━━━━━━\u001b[0m\u001b[37m\u001b[0m \u001b[1m0s\u001b[0m 0s/step - accuracy: 1.0000 - loss: 0.0613  \n",
      "Epoch 17/30\n",
      "\u001b[1m2/2\u001b[0m \u001b[32m━━━━━━━━━━━━━━━━━━━━\u001b[0m\u001b[37m\u001b[0m \u001b[1m0s\u001b[0m 16ms/step - accuracy: 1.0000 - loss: 0.0479 \n",
      "Epoch 18/30\n",
      "\u001b[1m2/2\u001b[0m \u001b[32m━━━━━━━━━━━━━━━━━━━━\u001b[0m\u001b[37m\u001b[0m \u001b[1m0s\u001b[0m 0s/step - accuracy: 1.0000 - loss: 0.0389  \n",
      "Epoch 19/30\n",
      "\u001b[1m2/2\u001b[0m \u001b[32m━━━━━━━━━━━━━━━━━━━━\u001b[0m\u001b[37m\u001b[0m \u001b[1m0s\u001b[0m 16ms/step - accuracy: 1.0000 - loss: 0.0309\n",
      "Epoch 20/30\n",
      "\u001b[1m2/2\u001b[0m \u001b[32m━━━━━━━━━━━━━━━━━━━━\u001b[0m\u001b[37m\u001b[0m \u001b[1m0s\u001b[0m 0s/step - accuracy: 1.0000 - loss: 0.0255  \n",
      "Epoch 21/30\n",
      "\u001b[1m2/2\u001b[0m \u001b[32m━━━━━━━━━━━━━━━━━━━━\u001b[0m\u001b[37m\u001b[0m \u001b[1m0s\u001b[0m 0s/step - accuracy: 1.0000 - loss: 0.0215  \n",
      "Epoch 22/30\n",
      "\u001b[1m2/2\u001b[0m \u001b[32m━━━━━━━━━━━━━━━━━━━━\u001b[0m\u001b[37m\u001b[0m \u001b[1m0s\u001b[0m 16ms/step - accuracy: 1.0000 - loss: 0.0181\n",
      "Epoch 23/30\n",
      "\u001b[1m2/2\u001b[0m \u001b[32m━━━━━━━━━━━━━━━━━━━━\u001b[0m\u001b[37m\u001b[0m \u001b[1m0s\u001b[0m 5ms/step - accuracy: 1.0000 - loss: 0.0158  \n",
      "Epoch 24/30\n",
      "\u001b[1m2/2\u001b[0m \u001b[32m━━━━━━━━━━━━━━━━━━━━\u001b[0m\u001b[37m\u001b[0m \u001b[1m0s\u001b[0m 17ms/step - accuracy: 1.0000 - loss: 0.0140\n",
      "Epoch 25/30\n",
      "\u001b[1m2/2\u001b[0m \u001b[32m━━━━━━━━━━━━━━━━━━━━\u001b[0m\u001b[37m\u001b[0m \u001b[1m0s\u001b[0m 0s/step - accuracy: 1.0000 - loss: 0.0123  \n",
      "Epoch 26/30\n",
      "\u001b[1m2/2\u001b[0m \u001b[32m━━━━━━━━━━━━━━━━━━━━\u001b[0m\u001b[37m\u001b[0m \u001b[1m0s\u001b[0m 16ms/step - accuracy: 1.0000 - loss: 0.0113\n",
      "Epoch 27/30\n",
      "\u001b[1m2/2\u001b[0m \u001b[32m━━━━━━━━━━━━━━━━━━━━\u001b[0m\u001b[37m\u001b[0m \u001b[1m0s\u001b[0m 4ms/step - accuracy: 1.0000 - loss: 0.0100  \n",
      "Epoch 28/30\n",
      "\u001b[1m2/2\u001b[0m \u001b[32m━━━━━━━━━━━━━━━━━━━━\u001b[0m\u001b[37m\u001b[0m \u001b[1m0s\u001b[0m 16ms/step - accuracy: 1.0000 - loss: 0.0094\n",
      "Epoch 29/30\n",
      "\u001b[1m2/2\u001b[0m \u001b[32m━━━━━━━━━━━━━━━━━━━━\u001b[0m\u001b[37m\u001b[0m \u001b[1m0s\u001b[0m 0s/step - accuracy: 1.0000 - loss: 0.0086  \n",
      "Epoch 30/30\n",
      "\u001b[1m2/2\u001b[0m \u001b[32m━━━━━━━━━━━━━━━━━━━━\u001b[0m\u001b[37m\u001b[0m \u001b[1m0s\u001b[0m 17ms/step - accuracy: 1.0000 - loss: 0.0081\n"
     ]
    },
    {
     "data": {
      "text/plain": [
       "<keras.src.callbacks.history.History at 0x219f6e65890>"
      ]
     },
     "execution_count": 25,
     "metadata": {},
     "output_type": "execute_result"
    }
   ],
   "source": [
    "model.fit(padded_seq,sent_index,epochs=30,verbose=True)"
   ]
  },
  {
   "cell_type": "code",
   "execution_count": 27,
   "id": "03d1626d-c0c0-4c7d-935f-2fcaa0568340",
   "metadata": {},
   "outputs": [
    {
     "data": {
      "image/png": "[encoded data removed]",
      "text/plain": [
       "<Figure size 1200x400 with 1 Axes>"
      ]
     },
     "metadata": {},
     "output_type": "display_data"
    }
   ],
   "source": [
    "plt.figure(figsize=(12,4))\n",
    "plt.plot(model.history.history[\"loss\"],label=\"Loss\")\n",
    "plt.plot(model.history.history[\"accuracy\"],label=\"Accuracy\")\n",
    "plt.title(\"Loss and accuracy visualization\")\n",
    "plt.legend()\n",
    "plt.xlabel(\"Epochs\")\n",
    "plt.ylabel(\"Loss /Accuracy\")\n",
    "plt.show()"
   ]
  },
  {
   "cell_type": "code",
   "execution_count": 48,
   "id": "38ff1499-20e0-4365-9872-14d5e27dc222",
   "metadata": {},
   "outputs": [],
   "source": [
    "def sentiment_analyzer(text):\n",
    "    text_seq =tokens.texts_to_sequences(text)\n",
    "    padd_text_seq =sequence.pad_sequences(text_seq,maxlen=max_len,padding=\"post\")\n",
    "    pred = model.predict(padd_text_seq)\n",
    "    sentiment =\"Positive\" if pred >=0.5 else \"Negative\"\n",
    "    return sentiment"
   ]
  },
  {
   "cell_type": "code",
   "execution_count": 49,
   "id": "c8c24d1d-aa86-4dea-a957-e1b4d379251a",
   "metadata": {},
   "outputs": [],
   "source": [
    "new_text =np.array([\"The movie was such a masterpeace,Recommended,Must watch!\"])"
   ]
  },
  {
   "cell_type": "code",
   "execution_count": 50,
   "id": "db7b7170-708b-42a3-9ed4-4e60af8f3a1e",
   "metadata": {},
   "outputs": [
    {
     "name": "stdout",
     "output_type": "stream",
     "text": [
      "\u001b[1m1/1\u001b[0m \u001b[32m━━━━━━━━━━━━━━━━━━━━\u001b[0m\u001b[37m\u001b[0m \u001b[1m0s\u001b[0m 244ms/step\n"
     ]
    },
    {
     "data": {
      "text/plain": [
       "'Positive'"
      ]
     },
     "execution_count": 50,
     "metadata": {},
     "output_type": "execute_result"
    }
   ],
   "source": [
    "sentiment_analyzer(new_text)"
   ]
  },
  {
   "cell_type": "code",
   "execution_count": 51,
   "id": "4c05377f-f1cf-49b8-9b55-3b9c5e6e0766",
   "metadata": {},
   "outputs": [
    {
     "name": "stdout",
     "output_type": "stream",
     "text": [
      "\u001b[1m1/1\u001b[0m \u001b[32m━━━━━━━━━━━━━━━━━━━━\u001b[0m\u001b[37m\u001b[0m \u001b[1m0s\u001b[0m 93ms/step\n"
     ]
    },
    {
     "data": {
      "text/plain": [
       "'Positive'"
      ]
     },
     "execution_count": 51,
     "metadata": {},
     "output_type": "execute_result"
    }
   ],
   "source": [
    "sentiment_analyzer([\"Absolutely fanstastic,the movie is great and cinematography is stunning\"])"
   ]
  },
  {
   "cell_type": "code",
   "execution_count": null,
   "id": "ed43a59d-3f47-41c1-b53d-01df7acc447b",
   "metadata": {},
   "outputs": [],
   "source": []
  }
 ],
 "metadata": {
  "kernelspec": {
   "display_name": "Python 3 (ipykernel)",
   "language": "python",
   "name": "python3"
  },
  "language_info": {
   "codemirror_mode": {
    "name": "ipython",
    "version": 3
   },
   "file_extension": ".py",
   "mimetype": "text/x-python",
   "name": "python",
   "nbconvert_exporter": "python",
   "pygments_lexer": "ipython3",
   "version": "3.11.9"
  }
 },
 "nbformat": 4,
 "nbformat_minor": 5
}
