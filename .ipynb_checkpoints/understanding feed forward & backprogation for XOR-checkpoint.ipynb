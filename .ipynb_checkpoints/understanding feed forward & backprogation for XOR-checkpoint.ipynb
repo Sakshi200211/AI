{
 "cells": [
  {
   "cell_type": "code",
   "execution_count": 1,
   "id": "131a0d46-5d57-458a-8045-b5441a683850",
   "metadata": {},
   "outputs": [],
   "source": [
    "import numpy as np\n",
    "import matplotlib.pyplot as plt\n",
    "import seaborn as sns"
   ]
  },
  {
   "cell_type": "code",
   "execution_count": 2,
   "id": "02ca0fef-f05f-4e9a-b939-7b85b718e9a5",
   "metadata": {},
   "outputs": [],
   "source": [
    "#Activation Function\n",
    "def sigmoid(x):\n",
    "    return 1/(1+np.exp(-x))"
   ]
  },
  {
   "cell_type": "code",
   "execution_count": 3,
   "id": "060d608a-c53c-4503-8969-a593a627b362",
   "metadata": {},
   "outputs": [],
   "source": [
    "#derivative of the activation function for backpropogation\n",
    "def sigmoid_derivative(x):\n",
    "    return x*(1-x)"
   ]
  },
  {
   "cell_type": "code",
   "execution_count": 4,
   "id": "ef00cc41-c4ec-4063-9a58-8c55433f8e34",
   "metadata": {},
   "outputs": [],
   "source": [
    "#input for XOR gate and expected output\n",
    "inputs = np.array([[0,0],[0,1],[1,0],[1,1]])\n",
    "outputs = np.array([[0],[1],[1],[0]])"
   ]
  },
  {
   "cell_type": "code",
   "execution_count": 5,
   "id": "dde1541c-6507-42fe-9af5-7993cea076c0",
   "metadata": {},
   "outputs": [],
   "source": [
    "#2 input neuron ,2 hidden neuron and 1 output neuron\n",
    "input_layer_neurons = 2\n",
    "hidden_layer_neurons=2\n",
    "output_layer_neuron=1\n"
   ]
  },
  {
   "cell_type": "code",
   "execution_count": 6,
   "id": "b03fc224-06f5-41d5-aab7-d4f41f7ed863",
   "metadata": {},
   "outputs": [],
   "source": [
    "#weights and bias\n",
    "weights_input_hidden = np.random.uniform(size=(input_layer_neurons,hidden_layer_neurons))\n",
    "weights_hidden_output = np.random.uniform(size=(hidden_layer_neurons,output_layer_neuron))\n",
    "bias_hidden = np.random.uniform(size=(1,hidden_layer_neurons))\n",
    "bias_output = np.random.uniform(size=(1,output_layer_neuron))"
   ]
  },
  {
   "cell_type": "code",
   "execution_count": 7,
   "id": "5ffc9783-da89-4e78-84b4-6e77ecd0e4e8",
   "metadata": {},
   "outputs": [
    {
     "data": {
      "text/plain": [
       "(array([[0.24468698, 0.76684241],\n",
       "        [0.65419629, 0.5874388 ]]),\n",
       " array([[0.48012961],\n",
       "        [0.13729325]]),\n",
       " array([[0.39644142, 0.71289058]]),\n",
       " array([[0.51302115]]))"
      ]
     },
     "execution_count": 7,
     "metadata": {},
     "output_type": "execute_result"
    }
   ],
   "source": [
    "weights_input_hidden,weights_hidden_output,bias_hidden,bias_output"
   ]
  },
  {
   "cell_type": "code",
   "execution_count": 12,
   "id": "fbaf3d31-fa63-4f59-830c-f9eec2f654df",
   "metadata": {},
   "outputs": [],
   "source": [
    "learning_rate=0.1\n",
    "epochs=100000"
   ]
  },
  {
   "cell_type": "code",
   "execution_count": 13,
   "id": "3ecb4a9b-ce60-43b8-9703-15fd1c89084e",
   "metadata": {},
   "outputs": [],
   "source": [
    "loss = []\n",
    "for i in range(epochs):\n",
    "    #forward propogation/feed forward\n",
    "    hidden_input=np.dot(inputs,weights_input_hidden)+bias_hidden\n",
    "    hidden_output = sigmoid(hidden_input)\n",
    "\n",
    "    final_input =np.dot(hidden_output, weights_hidden_output)+ bias_output\n",
    "    final_output = sigmoid(final_input)\n",
    "\n",
    "    #calculating error = differnce between predicted and actual\n",
    "    error =outputs- final_output\n",
    "\n",
    "    #Backprogation\n",
    "    #calculate the derivative of error w.r.t output\n",
    "    d_output = error *sigmoid_derivative(final_output)\n",
    "\n",
    "    #calculate the error for hidden_layer\n",
    "    error_hidden = d_output.dot(weights_hidden_output.T)\n",
    "    d_hidden = error_hidden * sigmoid_derivative(hidden_output)\n",
    "\n",
    "    #updating weights and biases using gradient descent\n",
    "    weights_hidden_output += hidden_output.T.dot(d_output)* learning_rate\n",
    "    weights_input_hidden += inputs.T.dot(d_hidden) * learning_rate\n",
    "\n",
    "    bias_output += np.sum(d_output ,axis=0 ,keepdims=True )* learning_rate\n",
    "    bias_hidden += np.sum(d_hidden,axis=0 ,keepdims=True )* learning_rate\n",
    "\n",
    "    #loss record\n",
    "    loss.append(np.mean(np.abs(error)))"
   ]
  },
  {
   "cell_type": "code",
   "execution_count": 14,
   "id": "0c28c1c7-ca00-429b-869e-4c79c3714a54",
   "metadata": {},
   "outputs": [
    {
     "name": "stdout",
     "output_type": "stream",
     "text": [
      "Input: [0 0], Predicted Output: [0.]\n",
      "Input: [0 1], Predicted Output: [1.]\n",
      "Input: [1 0], Predicted Output: [1.]\n",
      "Input: [1 1], Predicted Output: [0.]\n"
     ]
    }
   ],
   "source": [
    "for i , inp in enumerate(inputs):\n",
    "    hidden_input =np.dot(inp,weights_input_hidden) +bias_hidden\n",
    "    hidden_output= sigmoid(hidden_input)\n",
    "\n",
    "    final_input = np.dot(hidden_output ,weights_hidden_output)+bias_output\n",
    "    final_output = sigmoid(final_input)\n",
    "\n",
    "    print(f\"Input: {inp}, Predicted Output: {np.round(final_output)[0]}\")\n",
    "\n",
    "  \n"
   ]
  },
  {
   "cell_type": "code",
   "execution_count": 16,
   "id": "c2bd9d9c-82e3-4504-a985-02a3236683df",
   "metadata": {},
   "outputs": [
    {
     "data": {
      "image/png": "[encoded data removed]",
      "text/plain": [
       "<Figure size 1200x500 with 1 Axes>"
      ]
     },
     "metadata": {},
     "output_type": "display_data"
    }
   ],
   "source": [
    "plt.figure(figsize=(12,5))\n",
    "plt.scatter(range(100000),loss)\n",
    "plt.show()"
   ]
  },
  {
   "cell_type": "code",
   "execution_count": null,
   "id": "d12d750a-25f7-4803-9037-829ca2584e36",
   "metadata": {},
   "outputs": [],
   "source": []
  }
 ],
 "metadata": {
  "kernelspec": {
   "display_name": "Python 3 (ipykernel)",
   "language": "python",
   "name": "python3"
  },
  "language_info": {
   "codemirror_mode": {
    "name": "ipython",
    "version": 3
   },
   "file_extension": ".py",
   "mimetype": "text/x-python",
   "name": "python",
   "nbconvert_exporter": "python",
   "pygments_lexer": "ipython3",
   "version": "3.11.9"
  }
 },
 "nbformat": 4,
 "nbformat_minor": 5
}
